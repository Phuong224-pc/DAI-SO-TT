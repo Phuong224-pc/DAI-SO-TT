{
  "nbformat": 4,
  "nbformat_minor": 0,
  "metadata": {
    "colab": {
      "provenance": []
    },
    "kernelspec": {
      "name": "python3",
      "display_name": "Python 3"
    },
    "language_info": {
      "name": "python"
    }
  },
  "cells": [
    {
      "cell_type": "markdown",
      "source": [
        "# Thực hành\n"
      ],
      "metadata": {
        "id": "iYpuqUEJ48lS"
      }
    },
    {
      "cell_type": "code",
      "execution_count": null,
      "metadata": {
        "colab": {
          "base_uri": "https://localhost:8080/"
        },
        "id": "Lldn4zc6tatF",
        "outputId": "d56f970e-42ae-4888-d135-0eaac3fae885"
      },
      "outputs": [
        {
          "output_type": "stream",
          "name": "stdout",
          "text": [
            "sgn_by_def([2,1,3,4]) = -1\n",
            "sgn_by_def([1,2,3,4]) = 1\n",
            "sgn_by_def([4,3,2,1]) = 1\n"
          ]
        }
      ],
      "source": [
        "# 1.1\n",
        "\n",
        "import numpy as np\n",
        "n = 4\n",
        "X = np.array(range(1, n+1))\n",
        "def sgn_by_def(sigma):\n",
        "    ket_qua = 1.0\n",
        "    for i in range(len(X) - 1):\n",
        "        for j in range(i + 1, len(X)):\n",
        "            ket_qua *= ((X[i] - X[j]) / (sigma[i] - sigma[j]))\n",
        "    return int(ket_qua)\n",
        "\n",
        "# Trường hợp 1: sigma = [2,1,3,4]\n",
        "sigma = np.array([2,1,3,4])\n",
        "print(\"sgn_by_def([2,1,3,4]) =\", sgn_by_def(sigma))\n",
        "\n",
        "# Trường hợp 2: sigma = [1,2,3,4]\n",
        "sigma = np.array([1,2,3,4])\n",
        "print(\"sgn_by_def([1,2,3,4]) =\", sgn_by_def(sigma))\n",
        "\n",
        "# Trường hợp 3: sigma = [4,3,2,1]\n",
        "sigma = np.array([4,3,2,1])\n",
        "print(\"sgn_by_def([4,3,2,1]) =\", sgn_by_def(sigma))\n"
      ]
    },
    {
      "cell_type": "code",
      "source": [
        "#1.2\n",
        "from itertools import permutations\n",
        "import numpy as np\n",
        "\n",
        "# Hàm tính dấu (đã định nghĩa ở phần trước)\n",
        "def sgn_by_def(sigma):\n",
        "    ket_qua = 1.0\n",
        "    n = len(sigma)\n",
        "    X = np.arange(1, n+1)\n",
        "    for i in range(len(X) - 1):\n",
        "        for j in range(i + 1, len(X)):\n",
        "            ket_qua *= ((X[i] - X[j]) / (sigma[i] - sigma[j]))\n",
        "    return int(ket_qua)\n",
        "\n",
        "# Hàm phát sinh công thức định thức dưới dạng chữ\n",
        "def phatsinh_dinhthuc(n):\n",
        "    X = []\n",
        "    for i in range(1, n+1):\n",
        "        X.append(i)\n",
        "    Sn = list(permutations(X))\n",
        "    dinhthuc = \"\"\n",
        "    for sn in Sn:\n",
        "        sigma = np.array([()])\n",
        "        sigma.resize((n,))\n",
        "        for i in range(n):\n",
        "            sigma[sn.index(i+1)] = i+1\n",
        "        product = \"\"\n",
        "        for i in range(n):\n",
        "            product += \"a\" + str(i+1) + str(sn.index(i+1)+1)\n",
        "        dau = sgn_by_def(sigma)\n",
        "        if dau != 1:\n",
        "            product = \" - \" + product\n",
        "        else:\n",
        "            product = \" + \" + product\n",
        "        dinhthuc += product\n",
        "    return dinhthuc\n",
        "\n",
        "print(phatsinh_dinhthuc(2))\n",
        "\n"
      ],
      "metadata": {
        "id": "UzOCZiD0wPf7",
        "colab": {
          "base_uri": "https://localhost:8080/"
        },
        "outputId": "5cffd9c2-3eaa-4fac-9afd-76e9f0fe6173"
      },
      "execution_count": null,
      "outputs": [
        {
          "output_type": "stream",
          "name": "stdout",
          "text": [
            " + a11a22 - a12a21\n"
          ]
        }
      ]
    },
    {
      "cell_type": "code",
      "source": [
        "#1.3\n",
        "from itertools import permutations\n",
        "import numpy as np\n",
        "import math\n",
        "\n",
        "def tinh_toan_dinhthuc(A):\n",
        "    X = []\n",
        "    n = int(math.sqrt(A.size))\n",
        "    for i in range(1, n+1):\n",
        "        X.append(i)\n",
        "    Sn = list(permutations(X))\n",
        "    dinhthuc = 0\n",
        "    for sn in Sn:\n",
        "        sigma = np.array([()])\n",
        "        sigma.resize((n,))\n",
        "        product = 1\n",
        "        for i in range(n):\n",
        "            sigma[sn.index(i+1)] = i+1\n",
        "            product *= A[i, sn.index(i+1)]\n",
        "        dau = sgn_by_def(sigma)\n",
        "        if dau != 1:\n",
        "            product *= -1\n",
        "        dinhthuc += product\n",
        "    return dinhthuc\n",
        "\n",
        "A = np.array([[3, 5, -8],\n",
        "              [4, 12, -1],\n",
        "              [2, 5, 3]])\n",
        "print(tinh_toan_dinhthuc(A))\n"
      ],
      "metadata": {
        "colab": {
          "base_uri": "https://localhost:8080/"
        },
        "id": "iu0dgASQx01g",
        "outputId": "6924d50d-e48f-4499-a2a0-1f485b72b552"
      },
      "execution_count": null,
      "outputs": [
        {
          "output_type": "stream",
          "name": "stdout",
          "text": [
            "85\n"
          ]
        }
      ]
    },
    {
      "cell_type": "code",
      "source": [
        "#3.1\n",
        "import numpy as np\n",
        "from scipy import linalg\n",
        "\n",
        "# Định nghĩa hàm tính định thức\n",
        "def tinhtoan_dinhthuc(matrix):\n",
        "    return np.linalg.det(matrix)\n",
        "\n",
        "# Khai báo ma trận A, A1, A2\n",
        "A = np.array([[4, -2],\n",
        "              [3, -5]])\n",
        "A1 = np.array([[10, -2],\n",
        "               [11, -5]])\n",
        "A2 = np.array([[4, 10],\n",
        "               [3, 11]])\n",
        "\n",
        "# Cách 1: Sử dụng scipy.linalg.det\n",
        "detA = linalg.det(A)\n",
        "detA1 = linalg.det(A1)\n",
        "detA2 = linalg.det(A2)\n",
        "\n",
        "print(\">>> Sử dụng scipy.linalg.det:\")\n",
        "print(\"detA =\", detA)\n",
        "print(\"detA1 =\", detA1)\n",
        "print(\"detA2 =\", detA2)\n",
        "\n",
        "if detA != 0:\n",
        "    x1 = detA1 / detA\n",
        "    x2 = detA2 / detA\n",
        "    print(\"Nghiệm của hệ phương trình:\")\n",
        "    print(\"x1 =\", x1)\n",
        "    print(\"x2 =\", x2)\n",
        "else:\n",
        "    print(\"Hệ phương trình vô nghiệm hoặc vô số nghiệm.\")\n",
        "\n",
        "# Cách 2: Sử dụng hàm tinhtoan_dinhthuc()\n",
        "detA_tu_tinh = tinhtoan_dinhthuc(A)\n",
        "detA1_tu_tinh = tinhtoan_dinhthuc(A1)\n",
        "detA2_tu_tinh = tinhtoan_dinhthuc(A2)\n",
        "\n",
        "print(\"\\n>>> Sử dụng hàm tinhtoan_dinhthuc():\")\n",
        "print(\"detA =\", detA_tu_tinh)\n",
        "print(\"detA1 =\", detA1_tu_tinh)\n",
        "print(\"detA2 =\", detA2_tu_tinh)\n",
        "\n",
        "if detA_tu_tinh != 0:\n",
        "    x1 = detA1_tu_tinh / detA_tu_tinh\n",
        "    x2 = detA2_tu_tinh / detA_tu_tinh\n",
        "    print(\"Nghiệm của hệ phương trình:\")\n",
        "    print(\"x1 =\", x1)\n",
        "    print(\"x2 =\", x2)\n",
        "else:\n",
        "    print(\"Hệ phương trình vô nghiệm hoặc vô số nghiệm.\")\n"
      ],
      "metadata": {
        "colab": {
          "base_uri": "https://localhost:8080/"
        },
        "id": "czkWc6Mx0Koq",
        "outputId": "0600e1bd-fb44-429c-c06c-1d9b584e2fd9"
      },
      "execution_count": null,
      "outputs": [
        {
          "output_type": "stream",
          "name": "stdout",
          "text": [
            ">>> Sử dụng scipy.linalg.det:\n",
            "detA = -14.0\n",
            "detA1 = -28.0\n",
            "detA2 = 14.000000000000004\n",
            "Nghiệm của hệ phương trình:\n",
            "x1 = 2.0\n",
            "x2 = -1.0000000000000002\n",
            "\n",
            ">>> Sử dụng hàm tinhtoan_dinhthuc():\n",
            "detA = -14.000000000000004\n",
            "detA1 = -28.00000000000001\n",
            "detA2 = 14.000000000000004\n",
            "Nghiệm của hệ phương trình:\n",
            "x1 = 2.0000000000000004\n",
            "x2 = -1.0\n"
          ]
        }
      ]
    },
    {
      "cell_type": "code",
      "source": [
        "#3.2\n",
        "A = np.array([\n",
        "    [-1, 2, -3],\n",
        "    [2, -2, 1],\n",
        "    [3, -4, 4]\n",
        "])\n",
        "b = np.array([1, 3, 2])\n",
        "Ax = A.copy()\n",
        "Ay = A.copy()\n",
        "Az = A.copy()\n",
        "\n",
        "Ax[:,0] = b\n",
        "Ay[:,1] = b\n",
        "Az[:,2] = b\n",
        "\n",
        "# Cách 1: Sử dụng scipy.linalg.det\n",
        "detA = linalg.det(A)\n",
        "detAx = linalg.det(Ax)\n",
        "detAy = linalg.det(Ay)\n",
        "detAz = linalg.det(Az)\n",
        "\n",
        "print(\"\\n>>> Sử dụng scipy.linalg.det:\")\n",
        "print(\"detA =\", detA)\n",
        "print(\"detAx =\", detAx)\n",
        "print(\"detAy =\", detAy)\n",
        "print(\"detAz =\", detAz)\n",
        "\n",
        "if detA != 0:\n",
        "    x = detAx / detA\n",
        "    y = detAy / detA\n",
        "    z = detAz / detA\n",
        "    print(\"Nghiệm của hệ phương trình:\")\n",
        "    print(\"x =\", x)\n",
        "    print(\"y =\", y)\n",
        "    print(\"z =\", z)\n",
        "else:\n",
        "    print(\"Hệ phương trình vô nghiệm hoặc vô số nghiệm.\")\n",
        "\n",
        "# Cách 2: Sử dụng hàm tinhtoan_dinhthuc()\n",
        "detA_tu_tinh = tinhtoan_dinhthuc(A)\n",
        "detAx_tu_tinh = tinhtoan_dinhthuc(Ax)\n",
        "detAy_tu_tinh = tinhtoan_dinhthuc(Ay)\n",
        "detAz_tu_tinh = tinhtoan_dinhthuc(Az)\n",
        "\n",
        "print(\"\\n>>> Sử dụng hàm tinhtoan_dinhthuc():\")\n",
        "print(\"detA =\", detA_tu_tinh)\n",
        "print(\"detAx =\", detAx_tu_tinh)\n",
        "print(\"detAy =\", detAy_tu_tinh)\n",
        "print(\"detAz =\", detAz_tu_tinh)\n",
        "\n",
        "if detA_tu_tinh != 0:\n",
        "    x = detAx_tu_tinh / detA_tu_tinh\n",
        "    y = detAy_tu_tinh / detA_tu_tinh\n",
        "    z = detAz_tu_tinh / detA_tu_tinh\n",
        "    print(\"Nghiệm của hệ phương trình:\")\n",
        "    print(\"x =\", x)\n",
        "    print(\"y =\", y)\n",
        "    print(\"z =\", z)\n",
        "else:\n",
        "    print(\"Hệ phương trình vô nghiệm hoặc vô số nghiệm.\")\n"
      ],
      "metadata": {
        "colab": {
          "base_uri": "https://localhost:8080/"
        },
        "id": "lNOqh8cx0hnG",
        "outputId": "94809e82-47a7-46d9-871e-9cace6f47622"
      },
      "execution_count": null,
      "outputs": [
        {
          "output_type": "stream",
          "name": "stdout",
          "text": [
            "\n",
            ">>> Sử dụng scipy.linalg.det:\n",
            "detA = 0.0\n",
            "detAx = 0.0\n",
            "detAy = 0.0\n",
            "detAz = 0.0\n",
            "Hệ phương trình vô nghiệm hoặc vô số nghiệm.\n",
            "\n",
            ">>> Sử dụng hàm tinhtoan_dinhthuc():\n",
            "detA = -8.881784197001244e-16\n",
            "detAx = 7.105427357600985e-15\n",
            "detAy = 2.2204460492503135e-15\n",
            "detAz = 1.7763568394002524e-15\n",
            "Nghiệm của hệ phương trình:\n",
            "x = -7.9999999999999885\n",
            "y = -2.5000000000000027\n",
            "z = -2.000000000000004\n"
          ]
        }
      ]
    },
    {
      "cell_type": "code",
      "source": [
        "#4\n",
        "import sympy as sp\n",
        "TG = sp.Matrix([\n",
        "    [1, 0, 1],\n",
        "    [4, 3, 1],\n",
        "    [2, 2, 1]\n",
        "])\n",
        "\n",
        "# Tính định thức của ma trận:\n",
        "detTG = TG.det()\n",
        "print(\"Định thức của ma trận TG là:\", detTG)\n",
        "\n",
        "# Tính diện tích:\n",
        "S = 1/2 * abs(detTG)\n",
        "print(\"Diện tích tam giác là:\", S)\n",
        "\n"
      ],
      "metadata": {
        "id": "KmQJW3YT0qCI",
        "colab": {
          "base_uri": "https://localhost:8080/"
        },
        "outputId": "979cc821-bc65-45b6-e2ed-9defbbe8fac9"
      },
      "execution_count": null,
      "outputs": [
        {
          "output_type": "stream",
          "name": "stdout",
          "text": [
            "Định thức của ma trận TG là: 3\n",
            "Diện tích tam giác là: 1.50000000000000\n"
          ]
        }
      ]
    },
    {
      "cell_type": "code",
      "source": [
        "#4.1\n",
        "def polygon_area(diem):\n",
        "\n",
        "    n = len(diem)\n",
        "    area = 0\n",
        "    for i in range(n):\n",
        "        x1, y1 = diem[i]\n",
        "        x2, y2 = diem[(i + 1) % n]\n",
        "        area += (x1 * y2) - (x2 * y1)\n",
        "    return abs(area) / 2\n",
        "\n",
        "\n",
        "diem = [\n",
        "    (4, 10),\n",
        "    (9, 7),\n",
        "    (11, 2),\n",
        "    (2, 2),\n",
        "    (2, 7)\n",
        "]\n",
        "\n",
        "print(\"Diện tích đa giác là:\", polygon_area(diem))"
      ],
      "metadata": {
        "colab": {
          "base_uri": "https://localhost:8080/"
        },
        "id": "UvzfRltJ8nTO",
        "outputId": "5dd2c80f-d1f6-4d8a-b7b5-c06dcd5b9135"
      },
      "execution_count": null,
      "outputs": [
        {
          "output_type": "stream",
          "name": "stdout",
          "text": [
            "Diện tích đa giác là: 50.5\n"
          ]
        }
      ]
    },
    {
      "cell_type": "code",
      "source": [
        "#4.2\n",
        "from sympy import Matrix\n",
        "M = Matrix([\n",
        "    [0, 4, 1, 1],\n",
        "    [4, 0, 0, 1],\n",
        "    [3, 5, 2, 1],\n",
        "    [2, 2, 5, 1]\n",
        "])\n",
        "\n",
        "# Tính định thức:\n",
        "detM = M.det()\n",
        "print(\"Định thức của ma trận M là:\", detM)\n",
        "\n",
        "# Tính thể tích:\n",
        "V = 1/6 * abs(detM)\n",
        "print(\"Thể tích của tứ diện là:\", V)\n"
      ],
      "metadata": {
        "colab": {
          "base_uri": "https://localhost:8080/"
        },
        "id": "T8d-dubE1hKl",
        "outputId": "69d46f5a-ccf5-4da6-b206-77e47ce1209a"
      },
      "execution_count": null,
      "outputs": [
        {
          "output_type": "stream",
          "name": "stdout",
          "text": [
            "Định thức của ma trận M là: -72\n",
            "Thể tích của tứ diện là: 12.0000000000000\n"
          ]
        }
      ]
    },
    {
      "cell_type": "code",
      "source": [
        "#4.3\n",
        "from sympy import *\n",
        "x, y, z = symbols('x y z')\n",
        "MP = Matrix([\n",
        "    [x, y, z, 1],\n",
        "    [-1, 3, 2, 1],\n",
        "    [0, 1, 0, 1],\n",
        "    [-2, 0, 1, 1]\n",
        "])\n",
        "\n",
        "# Tính định thức\n",
        "det = MP.det()\n",
        "print(\"Định thức:\", det)\n",
        "eq = Eq(det, 0)\n",
        "print(\"Phương trình mặt phẳng là:\")\n",
        "print(eq)\n"
      ],
      "metadata": {
        "colab": {
          "base_uri": "https://localhost:8080/"
        },
        "id": "N43hzXiT1s1s",
        "outputId": "8f28dec7-389b-4b07-f991-2b80d983ac2c"
      },
      "execution_count": null,
      "outputs": [
        {
          "output_type": "stream",
          "name": "stdout",
          "text": [
            "Định thức: -4*x + 3*y - 5*z - 3\n",
            "Phương trình mặt phẳng là:\n",
            "Eq(-4*x + 3*y - 5*z - 3, 0)\n"
          ]
        }
      ]
    },
    {
      "cell_type": "code",
      "source": [
        "import sympy as sp\n",
        "\n",
        "# Biến x và y là tọa độ biến cho điểm thứ 6\n",
        "x, y = sp.symbols('x y')\n",
        "\n",
        "# Nhập 5 tọa độ điểm đã biết\n",
        "points = []\n",
        "for i in range(5):\n",
        "    xi, yi = map(float, input(f\"Nhập tọa độ điểm {i+1} (x y): \").split())\n",
        "    points.append((xi, yi))\n",
        "\n",
        "# Tạo ma trận 6x6\n",
        "matrix_rows = []\n",
        "for xi, yi in points:\n",
        "    matrix_rows.append([xi**2, xi*yi, yi**2, xi, yi, 1])\n",
        "\n",
        "# Thêm hàng cho điểm (x, y) biến\n",
        "matrix_rows.append([x**2, x*y, y**2, x, y, 1])\n",
        "\n",
        "M = sp.Matrix(matrix_rows)\n",
        "\n",
        "# Tính định thức\n",
        "det = M.det()\n",
        "\n",
        "print(\"\\nPhương trình quỹ đạo ellipse (x, y thỏa mãn điều kiện sau):\")\n",
        "sp.pprint(sp.simplify(det), use_unicode=True)\n",
        "\n",
        "# Nếu muốn in dưới dạng phương trình = 0\n",
        "print(\"\\nPhương trình ellipse:\")\n",
        "sp.pprint(sp.Eq(det, 0), use_unicode=True)\n"
      ],
      "metadata": {
        "id": "DtWkJKAG2G3a",
        "colab": {
          "base_uri": "https://localhost:8080/"
        },
        "outputId": "16358002-bed9-4be5-bc24-515ad6abc59f"
      },
      "execution_count": 11,
      "outputs": [
        {
          "output_type": "stream",
          "name": "stdout",
          "text": [
            "Nhập tọa độ điểm 1 (x y): 2  3\n",
            "Nhập tọa độ điểm 2 (x y): 3 5\n",
            "Nhập tọa độ điểm 3 (x y): 4 5\n",
            "Nhập tọa độ điểm 4 (x y): 5 6\n",
            "Nhập tọa độ điểm 5 (x y): 7 8\n",
            "\n",
            "Phương trình quỹ đạo ellipse (x, y thỏa mãn điều kiện sau):\n",
            "0\n",
            "\n",
            "Phương trình ellipse:\n",
            "True\n"
          ]
        }
      ]
    },
    {
      "cell_type": "markdown",
      "source": [
        "# Bài tập\n"
      ],
      "metadata": {
        "id": "0m47Hli03_ZS"
      }
    },
    {
      "cell_type": "code",
      "source": [
        "#Bài 1\n",
        "import sympy as sp\n",
        "\n",
        "n = int(input(\"Nhập kích thước ma trận vuông n: \"))\n",
        "A = []\n",
        "for i in range(n):\n",
        "    row = list(map(float, input(f\"Nhập hàng {i+1} (cách nhau bằng dấu cách): \").split()))\n",
        "    A.append(row)\n",
        "\n",
        "A = sp.Matrix(A)\n",
        "print(\"\\nMa trận A:\")\n",
        "sp.pprint(A)\n",
        "\n",
        "cofactor_matrix = A.cofactor_matrix()\n",
        "print(\"\\nMa trận hệ số kép (Cofactor Matrix):\")\n",
        "sp.pprint(cofactor_matrix)\n",
        "\n",
        "adjoint_matrix = A.adjugate()\n",
        "print(\"\\nMa trận liên hợp (Adjoint Matrix):\")\n",
        "sp.pprint(adjoint_matrix)\n"
      ],
      "metadata": {
        "colab": {
          "base_uri": "https://localhost:8080/"
        },
        "id": "qb4mcw0h3VHE",
        "outputId": "1a5d6a10-8629-4f14-df3b-2f386cafb255"
      },
      "execution_count": 10,
      "outputs": [
        {
          "output_type": "stream",
          "name": "stdout",
          "text": [
            "Nhập kích thước ma trận vuông n: 3\n",
            "Nhập hàng 1 (cách nhau bằng dấu cách): 2 3 1\n",
            "Nhập hàng 2 (cách nhau bằng dấu cách): 4 1 -3\n",
            "Nhập hàng 3 (cách nhau bằng dấu cách): 1 2 0\n",
            "\n",
            "Ma trận A:\n",
            "⎡2.0  3.0  1.0 ⎤\n",
            "⎢              ⎥\n",
            "⎢4.0  1.0  -3.0⎥\n",
            "⎢              ⎥\n",
            "⎣1.0  2.0  0.0 ⎦\n",
            "\n",
            "Ma trận hệ số kép (Cofactor Matrix):\n",
            "⎡ 6.0   -3.0   7.0 ⎤\n",
            "⎢                  ⎥\n",
            "⎢ 2.0   -1.0  -1.0 ⎥\n",
            "⎢                  ⎥\n",
            "⎣-10.0  10.0  -10.0⎦\n",
            "\n",
            "Ma trận liên hợp (Adjoint Matrix):\n",
            "⎡6.0   2.0   -10.0⎤\n",
            "⎢                 ⎥\n",
            "⎢-3.0  -1.0  10.0 ⎥\n",
            "⎢                 ⎥\n",
            "⎣7.0   -1.0  -10.0⎦\n"
          ]
        }
      ]
    },
    {
      "cell_type": "code",
      "source": [
        "#Bài 2\n",
        "import sympy as sp\n",
        "x, y = sp.symbols('x y')\n",
        "\n",
        "x1, y1 = 1, 1\n",
        "x2, y2 = 2, 4\n",
        "x3, y3 = 5, 3\n",
        "\n",
        "\n",
        "M = sp.Matrix([\n",
        "    [x**2 + y**2, x, y, 1],\n",
        "    [x1**2 + y1**2, x1, y1, 1],\n",
        "    [x2**2 + y2**2, x2, y2, 1],\n",
        "    [x3**2 + y3**2, x3, y3, 1],\n",
        "])\n",
        "\n",
        "circle_eq = M.det()\n",
        "circle_eq_simplified = sp.simplify(circle_eq)\n",
        "print(\"Phương trình đường tròn là:\")\n",
        "sp.pprint(sp.Eq(circle_eq_simplified, 0))\n"
      ],
      "metadata": {
        "colab": {
          "base_uri": "https://localhost:8080/"
        },
        "id": "eykZukR_3vCp",
        "outputId": "95528737-52d5-4173-cc8b-91a19343668e"
      },
      "execution_count": null,
      "outputs": [
        {
          "output_type": "stream",
          "name": "stdout",
          "text": [
            "Phương trình đường tròn là:\n",
            "      2              2                \n",
            "- 10⋅x  + 60⋅x - 10⋅y  + 40⋅y - 80 = 0\n"
          ]
        }
      ]
    }
  ]
}