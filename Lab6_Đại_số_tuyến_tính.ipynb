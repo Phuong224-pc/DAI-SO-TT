{
  "nbformat": 4,
  "nbformat_minor": 0,
  "metadata": {
    "colab": {
      "provenance": [],
      "collapsed_sections": [
        "kzn4rZKHL68W"
      ]
    },
    "kernelspec": {
      "name": "python3",
      "display_name": "Python 3"
    },
    "language_info": {
      "name": "python"
    }
  },
  "cells": [
    {
      "cell_type": "markdown",
      "source": [
        "# Thực hành"
      ],
      "metadata": {
        "id": "kzn4rZKHL68W"
      }
    },
    {
      "cell_type": "code",
      "execution_count": null,
      "metadata": {
        "colab": {
          "base_uri": "https://localhost:8080/"
        },
        "id": "87lXzMGcL1L9",
        "outputId": "4cdf5f91-d1a4-4d1e-caa8-2c8925285361"
      },
      "outputs": [
        {
          "output_type": "stream",
          "name": "stdout",
          "text": [
            "Tích vô hướng dùng np.inner(a, b): 32\n",
            "Tích vô hướng dùng np.dot(a, b): 32\n",
            "Kết luận: np.inner(a, b) và np.dot(a, b) cho kết quả giống nhau khi a và b là vector 1 chiều.\n"
          ]
        }
      ],
      "source": [
        "#Bài 1.2\n",
        "import numpy as np\n",
        "a = np.array([1, 2, 3])\n",
        "b = np.array([4, 5, 6])\n",
        "# Tính tích vô hướng bằng np.inner\n",
        "tich_inner = np.inner(a, b)\n",
        "print(\"Tích vô hướng dùng np.inner(a, b):\", tich_inner)\n",
        "# Tính tích vô hướng bằng np.dot\n",
        "tich_dot = np.dot(a, b)\n",
        "print(\"Tích vô hướng dùng np.dot(a, b):\", tich_dot)\n",
        "# Kiểm tra xem hai kết quả có giống nhau không\n",
        "if tich_inner == tich_dot:\n",
        "    print(\"Kết luận: np.inner(a, b) và np.dot(a, b) cho kết quả giống nhau khi a và b là vector 1 chiều.\")\n",
        "else:\n",
        "    print(\"Kết luận: Hai kết quả KHÔNG giống nhau.\")\n"
      ]
    },
    {
      "cell_type": "code",
      "source": [
        "#Bài1.2.2\n",
        "import numpy as np\n",
        "a = np.array([1, 2, -3])\n",
        "# Tính chuẩn 2 (L2 norm – mặc định)\n",
        "norm_l2 = np.linalg.norm(a)\n",
        "print(\">>> np.linalg.norm(a)\")\n",
        "print(norm_l2)\n",
        "# Tính chuẩn 2 (ghi rõ kiểu = 2)\n",
        "norm_l2_explicit = np.linalg.norm(a, 2)\n",
        "print(\">>> np.linalg.norm(a, 2)\")\n",
        "print(norm_l2_explicit)\n",
        "# Tính chuẩn 1 (L1 norm – tổng trị tuyệt đối)\n",
        "norm_l1 = np.linalg.norm(a, 1)\n",
        "print(\">>> np.linalg.norm(a, 1)\")\n",
        "print(norm_l1)\n"
      ],
      "metadata": {
        "colab": {
          "base_uri": "https://localhost:8080/"
        },
        "id": "eEGbwU5vNA1K",
        "outputId": "88e57349-cfe8-4f23-dd42-39847736f923"
      },
      "execution_count": null,
      "outputs": [
        {
          "output_type": "stream",
          "name": "stdout",
          "text": [
            ">>> np.linalg.norm(a)\n",
            "3.7416573867739413\n",
            ">>> np.linalg.norm(a, 2)\n",
            "3.7416573867739413\n",
            ">>> np.linalg.norm(a, 1)\n",
            "6.0\n"
          ]
        }
      ]
    },
    {
      "cell_type": "code",
      "source": [
        "#Bài 1.2.3\n",
        "import math\n",
        "import numpy as np\n",
        "from scipy import linalg\n",
        "\n",
        "# Định nghĩa hàm tính chuẩn p theo công thức\n",
        "def chuan(a, p):\n",
        "    return sum(abs(x) ** p for x in a) ** (1 / p)\n",
        "\n",
        "a = np.array([1, 2, -3])\n",
        "# Tính và in các chuẩn\n",
        "print(\">>> chuan(a, 1)\")\n",
        "print(chuan(a, 1))\n",
        "\n",
        "print(\">>> np.linalg.norm(a, 1)\")\n",
        "print(np.linalg.norm(a, 1))\n",
        "\n",
        "print(\">>> chuan(a, 2)\")\n",
        "print(chuan(a, 2))\n",
        "\n",
        "print(\">>> np.linalg.norm(a, 2)\")\n",
        "print(np.linalg.norm(a, 2))\n",
        "\n",
        "print(\">>> chuan(a, 3)\")\n",
        "print(chuan(a, 3))\n",
        "\n",
        "print(\">>> np.linalg.norm(a, 3)\")\n",
        "print(np.linalg.norm(a, 3))\n",
        "\n",
        "print(\">>> chuan(a, 1000)\")\n",
        "print(chuan(a, 1000))\n",
        "\n",
        "print(\">>> np.linalg.norm(a, 1000)\")\n",
        "try:\n",
        "    print(np.linalg.norm(a, 1000))\n",
        "except Exception as e:\n",
        "    print(\"Lỗi xảy ra:\", e)\n",
        "\n",
        "# Thử với scipy.linalg\n",
        "print(\">>> linalg.norm(a)\")\n",
        "print(linalg.norm(a))\n",
        "\n",
        "print(\">>> linalg.norm(a, 100)\")\n",
        "print(linalg.norm(a, 100))\n",
        "\n",
        "print(\">>> linalg.norm(a, 1000)\")\n",
        "print(linalg.norm(a, 1000))\n"
      ],
      "metadata": {
        "colab": {
          "base_uri": "https://localhost:8080/"
        },
        "id": "VUBb_Kk1N3W-",
        "outputId": "c160fd2a-a10e-4911-a3ce-4ff6f0271433"
      },
      "execution_count": null,
      "outputs": [
        {
          "output_type": "stream",
          "name": "stdout",
          "text": [
            ">>> chuan(a, 1)\n",
            "6.0\n",
            ">>> np.linalg.norm(a, 1)\n",
            "6.0\n",
            ">>> chuan(a, 2)\n",
            "3.7416573867739413\n",
            ">>> np.linalg.norm(a, 2)\n",
            "3.7416573867739413\n",
            ">>> chuan(a, 3)\n",
            "3.3019272488946263\n",
            ">>> np.linalg.norm(a, 3)\n",
            "3.3019272488946263\n",
            ">>> chuan(a, 1000)\n",
            "1.0442214818467515\n",
            ">>> np.linalg.norm(a, 1000)\n",
            "inf\n",
            ">>> linalg.norm(a)\n",
            "3.7416573867739413\n",
            ">>> linalg.norm(a, 100)\n",
            "3.0\n",
            ">>> linalg.norm(a, 1000)\n",
            "inf\n"
          ]
        },
        {
          "output_type": "stream",
          "name": "stderr",
          "text": [
            "/usr/local/lib/python3.11/dist-packages/numpy/linalg/_linalg.py:2780: RuntimeWarning: overflow encountered in power\n",
            "  absx **= ord\n"
          ]
        }
      ]
    },
    {
      "cell_type": "code",
      "source": [
        "#Bài 2\n",
        "import numpy as np\n",
        "\n",
        "m = 10\n",
        "v1 = np.array([5, -4, 3])\n",
        "v2 = np.array([4, 3, -2])\n",
        "v3 = np.array([-4, -3, -1])\n",
        "v4 = np.array([-9, 8, 6])\n",
        "mi = np.array([2, 5, 2, 1])\n",
        "\n",
        "M = np.array([v1, v2, v3, v4])\n",
        "MT = M.transpose()\n",
        "print(\">>> MT\")\n",
        "print(MT)\n",
        "\n",
        "v = (1.0 / m) * MT.dot(mi)\n",
        "print(\">>> v = (1.0/m)*MT.dot(mi)\")\n",
        "print(\">>> print(v)\")\n",
        "print(v)\n"
      ],
      "metadata": {
        "colab": {
          "base_uri": "https://localhost:8080/"
        },
        "id": "aKeQqNhGObDc",
        "outputId": "f59c5e26-abc3-4da8-c264-0876dd72990f"
      },
      "execution_count": null,
      "outputs": [
        {
          "output_type": "stream",
          "name": "stdout",
          "text": [
            ">>> MT\n",
            "[[ 5  4 -4 -9]\n",
            " [-4  3 -3  8]\n",
            " [ 3 -2 -1  6]]\n",
            ">>> v = (1.0/m)*MT.dot(mi)\n",
            ">>> print(v)\n",
            "[1.3 0.9 0. ]\n"
          ]
        }
      ]
    },
    {
      "cell_type": "code",
      "source": [
        "#Bài 3.1\n",
        "import numpy as np\n",
        "p = 0.136\n",
        "q = 0.998\n",
        "A = np.array([\n",
        "    [q,     p],\n",
        "    [1 - q, 1 - p]\n",
        "])\n",
        "# Bước 2: Khai báo vector v0 (trạng thái ban đầu)\n",
        "v0 = np.array([0.95, 0.05])  # x0: có việc làm, y0: thất nghiệp\n",
        "# Bước 3: Tính A^100 (dùng lệnh matrix_power)\n",
        "A100 = np.linalg.matrix_power(A, 100)\n",
        "# Bước 4: Tính vector trạng thái sau 100 tuần\n",
        "v100 = A100.dot(v0)\n",
        "# In kết quả\n",
        "print(\"Ma trận A^100:\")\n",
        "print(A100)\n",
        "\n",
        "print(\"\\nTrạng thái sau 100 tuần (v100):\")\n",
        "print(v100)  # [x100, y100]\n"
      ],
      "metadata": {
        "colab": {
          "base_uri": "https://localhost:8080/"
        },
        "id": "EnQmrP7cO3Ik",
        "outputId": "e4063b2a-47d8-4f04-96c9-9b8817d771d7"
      },
      "execution_count": null,
      "outputs": [
        {
          "output_type": "stream",
          "name": "stdout",
          "text": [
            "Ma trận A^100:\n",
            "[[0.98550725 0.9855069 ]\n",
            " [0.01449275 0.0144931 ]]\n",
            "\n",
            "Trạng thái sau 100 tuần (v100):\n",
            "[0.98550723 0.01449277]\n"
          ]
        }
      ]
    },
    {
      "cell_type": "code",
      "source": [
        "#Bài 3.1.2\n",
        "import numpy as np\n",
        "# Khai báo hệ số ma trận và vế phải\n",
        "A = np.array([\n",
        "    [1, -68],\n",
        "    [1,  1]\n",
        "])\n",
        "b = np.array([0, 1])\n",
        "\n",
        "nghiem = np.linalg.solve(A, b)\n",
        "print(\"Nghiệm của hệ (x, y):\", nghiem)\n"
      ],
      "metadata": {
        "colab": {
          "base_uri": "https://localhost:8080/"
        },
        "id": "db39GsoyPuP7",
        "outputId": "eca5360d-009f-49fc-d83b-c916ff1e5001"
      },
      "execution_count": null,
      "outputs": [
        {
          "output_type": "stream",
          "name": "stdout",
          "text": [
            "Nghiệm của hệ (x, y): [0.98550725 0.01449275]\n"
          ]
        }
      ]
    },
    {
      "cell_type": "code",
      "source": [
        "#Bài 3.1.3\n",
        "import sympy as sym\n",
        "x, y = sym.symbols('x y')\n",
        "# Vector ẩn và hệ số\n",
        "xy = sym.Matrix([x, y])\n",
        "A = sym.Matrix([[1, -68], [1, 1]])\n",
        "v = sym.Matrix([0, 1])\n",
        "# Giải hệ phương trình\n",
        "nghiem = sym.solve([A * xy - v])\n",
        "print(sym.pretty(nghiem))\n"
      ],
      "metadata": {
        "colab": {
          "base_uri": "https://localhost:8080/"
        },
        "id": "pfZnSbdnQkK9",
        "outputId": "ab80f1e5-689e-4f4c-83a8-344bbe4d4823"
      },
      "execution_count": null,
      "outputs": [
        {
          "output_type": "stream",
          "name": "stdout",
          "text": [
            "⎧   68         ⎫\n",
            "⎨x: ──, y: 1/69⎬\n",
            "⎩   69         ⎭\n"
          ]
        }
      ]
    },
    {
      "cell_type": "code",
      "source": [
        "#Bài 3.2\n",
        "import numpy as np\n",
        "A = np.array([\n",
        "    [1, 6],\n",
        "    [5, 2]\n",
        "])\n",
        "# Khai báo vector riêng u\n",
        "u = np.array([6, -5])\n",
        "# Tính tích Au\n",
        "Au = A.dot(u)\n",
        "# Tính -4u\n",
        "lambda_u = -4 * u\n",
        "\n",
        "print(\"A * u =\", Au)\n",
        "print(\"-4 * u =\", lambda_u)\n",
        "if np.allclose(Au, lambda_u):\n",
        "    print(\"✅ Đúng: A * u = -4 * u, u là vector riêng với trị riêng λ = -4\")\n",
        "else:\n",
        "    print(\"❌ Sai: Không thỏa mãn A * u = -4 * u\")\n"
      ],
      "metadata": {
        "colab": {
          "base_uri": "https://localhost:8080/"
        },
        "id": "qLpRX8uWQvpQ",
        "outputId": "0381170f-7d5f-4dd3-c301-a28f7be4040b"
      },
      "execution_count": null,
      "outputs": [
        {
          "output_type": "stream",
          "name": "stdout",
          "text": [
            "A * u = [-24  20]\n",
            "-4 * u = [-24  20]\n",
            "✅ Đúng: A * u = -4 * u, u là vector riêng với trị riêng λ = -4\n"
          ]
        }
      ]
    },
    {
      "cell_type": "code",
      "source": [
        "#Bài 3.2.2\n",
        "import sympy\n",
        "x, y, Lambda = sympy.symbols('x y Lambda')\n",
        "I = sympy.eye(2)\n",
        "\n",
        "A = sympy.Matrix([\n",
        "    [2, 3],\n",
        "    [3, -6]\n",
        "])\n",
        "# Thiết lập phương trình đặc trưng: det(Lambda*I - A) = 0\n",
        "phuongtrinh = sympy.Eq(sympy.det(Lambda * I - A), 0)\n",
        "# Giải phương trình tìm trị riêng\n",
        "nghiem = sympy.solve(phuongtrinh)\n",
        "print([sympy.N(phantu, 4) for phantu in nghiem])\n",
        "print(sympy.pretty(nghiem))\n"
      ],
      "metadata": {
        "colab": {
          "base_uri": "https://localhost:8080/"
        },
        "id": "5gP4XloBRQ6y",
        "outputId": "6bbdeae0-9ae9-4d9c-96a4-c7068818ac79"
      },
      "execution_count": null,
      "outputs": [
        {
          "output_type": "stream",
          "name": "stdout",
          "text": [
            "[-7.000, 3.000]\n",
            "[-7, 3]\n"
          ]
        }
      ]
    },
    {
      "cell_type": "code",
      "source": [
        "#Bìa 3.3\n",
        "import numpy as np\n",
        "from numpy import linalg as LA\n",
        "A = np.array([[2, 3],\n",
        "              [3, -6]])\n",
        "\n",
        "D = np.array([[-7, 0],\n",
        "              [0, 3]])\n",
        "\n",
        "P = np.array([[-1.0/3, 3],\n",
        "              [1, 1]])\n",
        "# Tính nghịch đảo của P\n",
        "P1 = LA.inv(P)\n",
        "# Tính D^2 (lũy thừa ma trận chéo dễ)\n",
        "print(\">>> D ** 2:\")\n",
        "print(D ** 2)\n",
        "# In P^(-1)\n",
        "print(\">>> P^(-1):\")\n",
        "print(P1)\n",
        "# Tính P @ D^1000 @ P^(-1)\n",
        "D_1000 = D ** 1000\n",
        "result = P @ D_1000 @ P1\n",
        "print(\">>> P @ D^1000 @ P^(-1):\")\n",
        "print(result)\n",
        "# Kiểm tra A * P và P * D\n",
        "print(\">>> A.dot(P):\")\n",
        "print(A.dot(P))\n",
        "print(\">>> P.dot(D):\")\n",
        "print(P.dot(D))\n"
      ],
      "metadata": {
        "colab": {
          "base_uri": "https://localhost:8080/"
        },
        "id": "DGEa_oeFR2jl",
        "outputId": "c2bfded3-d0a2-4a9f-e236-569dd2d6813f"
      },
      "execution_count": null,
      "outputs": [
        {
          "output_type": "stream",
          "name": "stdout",
          "text": [
            ">>> D ** 2:\n",
            "[[49  0]\n",
            " [ 0  9]]\n",
            ">>> P^(-1):\n",
            "[[-0.3  0.9]\n",
            " [ 0.3  0.1]]\n",
            ">>> P @ D^1000 @ P^(-1):\n",
            "[[ 5.03503397e+18  3.50482117e+18]\n",
            " [ 3.50482117e+18 -4.31115581e+18]]\n",
            ">>> A.dot(P):\n",
            "[[ 2.33333333  9.        ]\n",
            " [-7.          3.        ]]\n",
            ">>> P.dot(D):\n",
            "[[ 2.33333333  9.        ]\n",
            " [-7.          3.        ]]\n"
          ]
        }
      ]
    },
    {
      "cell_type": "markdown",
      "source": [
        "# Bài tập\n"
      ],
      "metadata": {
        "id": "DP7XLUU3SYxS"
      }
    },
    {
      "cell_type": "code",
      "source": [
        "#Bài 1\n",
        "import numpy as np\n",
        "import math\n",
        "\n",
        "a = np.array([1, 2, 3])\n",
        "# a. Dùng a.dot(a)\n",
        "mag_a = np.sqrt(a.dot(a))\n",
        "print(\"a. np.sqrt(a.dot(a)) =\", mag_a)\n",
        "# b. Dùng toán tử @\n",
        "mag_b = np.sqrt(a @ a)\n",
        "print(\"b. np.sqrt(a @ a) =\", mag_b)\n",
        "# c. Dùng np.inner\n",
        "mag_c = np.sqrt(np.inner(a, a))\n",
        "print(\"c. np.sqrt(np.inner(a, a)) =\", mag_c)\n",
        "# d. Dùng lambda và vòng lặp\n",
        "mag_d_func = lambda x: math.sqrt(sum(i**2 for i in x))\n",
        "mag_d = mag_d_func(a)\n",
        "print(\"d. lambda sqrt(sum(i**2)) =\", mag_d)\n"
      ],
      "metadata": {
        "colab": {
          "base_uri": "https://localhost:8080/"
        },
        "id": "GNVStBczSdFS",
        "outputId": "3ee5aa24-6678-43e4-fcfc-04fa0f49d67c"
      },
      "execution_count": null,
      "outputs": [
        {
          "output_type": "stream",
          "name": "stdout",
          "text": [
            "a. np.sqrt(a.dot(a)) = 3.7416573867739413\n",
            "b. np.sqrt(a @ a) = 3.7416573867739413\n",
            "c. np.sqrt(np.inner(a, a)) = 3.7416573867739413\n",
            "d. lambda sqrt(sum(i**2)) = 3.7416573867739413\n"
          ]
        }
      ]
    },
    {
      "cell_type": "code",
      "source": [
        "#Bài 2\n",
        "import numpy as np\n",
        "from numpy import linalg as LA\n",
        "from math import acos, degrees\n",
        "\n",
        "u = np.array([2, 3])\n",
        "v = np.array([4, -1])\n",
        "# --- a. Khoảng cách giữa 2 vector ---\n",
        "khoang_cach = LA.norm(u - v)\n",
        "print(\"a. Khoảng cách ||u - v|| =\", khoang_cach)\n",
        "# --- b. Góc giữa 2 vector ---\n",
        "dot_product = np.dot(u, v)\n",
        "norm_u = LA.norm(u)\n",
        "norm_v = LA.norm(v)\n",
        "# Tính cos(theta) và theta (radian và độ)\n",
        "cos_theta = dot_product / (norm_u * norm_v)\n",
        "theta_rad = acos(cos_theta)\n",
        "theta_deg = degrees(theta_rad)\n",
        "print(\"b. Góc giữa u và v (radian):\", theta_rad)\n",
        "print(\"   Góc giữa u và v (độ):\", theta_deg)\n",
        "# --- c. Phép chiếu trực giao ---\n",
        "proj_coef = dot_product / np.dot(v, v)\n",
        "p = proj_coef * v\n",
        "print(\"c. Phép chiếu trực giao p =\", p)\n"
      ],
      "metadata": {
        "colab": {
          "base_uri": "https://localhost:8080/"
        },
        "id": "RHjIIRm-S0R6",
        "outputId": "59548ed0-0172-46bc-ef95-da1b6e4557c6"
      },
      "execution_count": null,
      "outputs": [
        {
          "output_type": "stream",
          "name": "stdout",
          "text": [
            "a. Khoảng cách ||u - v|| = 4.47213595499958\n",
            "b. Góc giữa u và v (radian): 1.2277723863741932\n",
            "   Góc giữa u và v (độ): 70.3461759419467\n",
            "c. Phép chiếu trực giao p = [ 1.17647059 -0.29411765]\n"
          ]
        }
      ]
    }
  ]
}