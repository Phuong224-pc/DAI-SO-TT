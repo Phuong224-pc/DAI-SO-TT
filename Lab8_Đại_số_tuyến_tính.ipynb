{
  "nbformat": 4,
  "nbformat_minor": 0,
  "metadata": {
    "colab": {
      "provenance": [],
      "collapsed_sections": [
        "k-rnBkPrRPtV",
        "yd-teU0YS9i4",
        "89KRtNqrULtP"
      ]
    },
    "kernelspec": {
      "name": "python3",
      "display_name": "Python 3"
    },
    "language_info": {
      "name": "python"
    }
  },
  "cells": [
    {
      "cell_type": "markdown",
      "source": [
        "# Thực hành\n"
      ],
      "metadata": {
        "id": "WITNyMpxOnMU"
      }
    },
    {
      "cell_type": "markdown",
      "source": [
        "# 1.1\n"
      ],
      "metadata": {
        "id": "zpKwgy0iP36q"
      }
    },
    {
      "cell_type": "code",
      "execution_count": null,
      "metadata": {
        "colab": {
          "base_uri": "https://localhost:8080/"
        },
        "id": "iv_gEv9iOkPg",
        "outputId": "d2dc9a39-3e33-4090-81f3-7c559364c071"
      },
      "outputs": [
        {
          "output_type": "stream",
          "name": "stdout",
          "text": [
            "[ 18 -11   9  -8]\n",
            "[ 9.  -5.5  4.5 -4. ]\n"
          ]
        }
      ],
      "source": [
        "#1.2\n",
        "#Bài 1\n",
        "#a)\n",
        "import numpy as np\n",
        "\n",
        "u = np.array([2, -1, 5, 0])\n",
        "v = np.array([4, 3, 1, -1])\n",
        "w = np.array([-6, 2, 0, 3])\n",
        "\n",
        "x = 2*u - (v + 3*w)\n",
        "print(x)\n",
        " #b)\n",
        "import numpy as np\n",
        "\n",
        "u = np.array([2, -1, 5, 0])\n",
        "v = np.array([4, 3, 1, -1])\n",
        "w = np.array([-6, 2, 0, 3])\n",
        "\n",
        "x = u - 0.5*v - 1.5*w\n",
        "print(x)\n",
        "\n"
      ]
    },
    {
      "cell_type": "code",
      "source": [
        "#Bài 2\n",
        "import numpy as np\n",
        "\n",
        "A = np.array([\n",
        "    [0, -1, 3],\n",
        "    [1, 1, 1],\n",
        "    [4, 2, 2]\n",
        "])\n",
        "\n",
        "B = np.array([-1, -2, -2])\n",
        "\n",
        "X = np.linalg.solve(A, B)\n",
        "print(X)\n"
      ],
      "metadata": {
        "colab": {
          "base_uri": "https://localhost:8080/"
        },
        "id": "oZtd0GRKPz9N",
        "outputId": "6f7ec69b-abe0-48d5-fc5b-12a620cfb2de"
      },
      "execution_count": null,
      "outputs": [
        {
          "output_type": "stream",
          "name": "stdout",
          "text": [
            "[ 1. -2. -1.]\n"
          ]
        }
      ]
    },
    {
      "cell_type": "code",
      "source": [
        "#Bài 3\n",
        "import numpy as np\n",
        "from numpy import linalg as LA\n",
        "\n",
        "# Khai báo hai ma trận không khả nghịch\n",
        "A = np.matrix([[1, 0],\n",
        "               [0, 0]])\n",
        "\n",
        "B = np.matrix([[0, 0],\n",
        "               [0, 1]])\n",
        "\n",
        "print(\"Matrix A:\\n\", A)\n",
        "print(\"Matrix B:\\n\", B)\n",
        "print(\"Matrix A + B:\\n\", A + B)\n",
        "\n",
        "# --- Phương pháp 1: Dùng inv() kiểm tra khả nghịch ---\n",
        "\n",
        "print(\"\\n--- Kiểm tra khả nghịch bằng inv() ---\")\n",
        "try:\n",
        "    print(\"Nghịch đảo A:\\n\", LA.inv(A))\n",
        "except Exception as e:\n",
        "    print(\"A không khả nghịch:\", e)\n",
        "\n",
        "try:\n",
        "    print(\"Nghịch đảo B:\\n\", LA.inv(B))\n",
        "except Exception as e:\n",
        "    print(\"B không khả nghịch:\", e)\n",
        "\n",
        "try:\n",
        "    print(\"Nghịch đảo A + B:\\n\", LA.inv(A + B))\n",
        "except Exception as e:\n",
        "    print(\"A + B không khả nghịch:\", e)\n",
        "\n",
        "# --- Phương pháp 2: Dùng định thức det() kiểm tra ---\n",
        "\n",
        "print(\"\\n--- Kiểm tra định thức bằng det() ---\")\n",
        "print(\"det(A) =\", LA.det(A))\n",
        "print(\"det(B) =\", LA.det(B))\n",
        "print(\"det(A + B) =\", LA.det(A + B))\n",
        "\n"
      ],
      "metadata": {
        "colab": {
          "base_uri": "https://localhost:8080/"
        },
        "id": "3aeHe5PMQLTN",
        "outputId": "932caecf-b578-49f2-c47c-62db850fa6ae"
      },
      "execution_count": null,
      "outputs": [
        {
          "output_type": "stream",
          "name": "stdout",
          "text": [
            "Matrix A:\n",
            " [[1 0]\n",
            " [0 0]]\n",
            "Matrix B:\n",
            " [[0 0]\n",
            " [0 1]]\n",
            "Matrix A + B:\n",
            " [[1 0]\n",
            " [0 1]]\n",
            "\n",
            "--- Kiểm tra khả nghịch bằng inv() ---\n",
            "A không khả nghịch: Singular matrix\n",
            "B không khả nghịch: Singular matrix\n",
            "Nghịch đảo A + B:\n",
            " [[1. 0.]\n",
            " [0. 1.]]\n",
            "\n",
            "--- Kiểm tra định thức bằng det() ---\n",
            "det(A) = 0.0\n",
            "det(B) = 0.0\n",
            "det(A + B) = 1.0\n"
          ]
        }
      ]
    },
    {
      "cell_type": "code",
      "source": [
        "#Bài 4\n",
        "import sympy as sp\n",
        "\n",
        "# Bước 1: Khai báo biến và ma trận đối xứng\n",
        "x, y = sp.symbols('x y')\n",
        "A = sp.Matrix([[x, y], [y, x]])\n",
        "\n",
        "x1, y1 = sp.symbols('x1 y1')\n",
        "A1 = sp.Matrix([[x1, y1], [y1, x1]])\n",
        "\n",
        "x2, y2 = sp.symbols('x2 y2')\n",
        "A2 = sp.Matrix([[x2, y2], [y2, x2]])\n",
        "\n",
        "# In ma trận A1\n",
        "print(\"Ma trận A1:\")\n",
        "print(A1)\n",
        "# Bước 2: Kiểm tra chuyển vị của A1\n",
        "print(\"\\nChuyển vị A1.T:\")\n",
        "print(A1.T)\n",
        "# Bước 3: Tổng hai ma trận đối xứng\n",
        "print(\"\\nTổng hai ma trận đối xứng (A1 + A2):\")\n",
        "print(A1 + A2)\n",
        "# Bước 4: Chuyển vị của tổng (A1 + A2).T\n",
        "print(\"\\nChuyển vị của (A1 + A2).T:\")\n",
        "print((A1 + A2).T)\n",
        "# Bước 5: Kiểm tra tổng có phải đối xứng không\n",
        "print(\"\\nKiểm tra (A1 + A2).T == A1 + A2 ?\")\n",
        "print((A1 + A2).T.equals(A1 + A2))  # Kết quả: True\n",
        "# Bước 6: Kiểm tra tính chất tích vô hướng\n",
        "c = sp.symbols('c')\n",
        "print(\"\\nTích vô hướng c * A:\")\n",
        "print(c * A)\n",
        "print(\"\\nKiểm tra (c*A).T == c*A ?\")\n",
        "print((c * A).T.equals(c * A))  # Kết quả: True\n"
      ],
      "metadata": {
        "colab": {
          "base_uri": "https://localhost:8080/"
        },
        "id": "zaDc4DjrQW3t",
        "outputId": "56fdf133-b1a6-404e-a691-9c7161518b37"
      },
      "execution_count": 4,
      "outputs": [
        {
          "output_type": "stream",
          "name": "stdout",
          "text": [
            "Ma trận A1:\n",
            "Matrix([[x1, y1], [y1, x1]])\n",
            "\n",
            "Chuyển vị A1.T:\n",
            "Matrix([[x1, y1], [y1, x1]])\n",
            "\n",
            "Tổng hai ma trận đối xứng (A1 + A2):\n",
            "Matrix([[x1 + x2, y1 + y2], [y1 + y2, x1 + x2]])\n",
            "\n",
            "Chuyển vị của (A1 + A2).T:\n",
            "Matrix([[x1 + x2, y1 + y2], [y1 + y2, x1 + x2]])\n",
            "\n",
            "Kiểm tra (A1 + A2).T == A1 + A2 ?\n",
            "True\n",
            "\n",
            "Tích vô hướng c * A:\n",
            "Matrix([[c*x, c*y], [c*y, c*x]])\n",
            "\n",
            "Kiểm tra (c*A).T == c*A ?\n",
            "True\n"
          ]
        }
      ]
    },
    {
      "cell_type": "code",
      "source": [
        "#Bài 5\n",
        "import numpy as np\n",
        "from numpy.linalg import LinAlgError\n",
        "\n",
        "# Các vector cơ sở\n",
        "v1 = np.array([1, 2, 3])\n",
        "v2 = np.array([0, 1, 2])\n",
        "v3 = np.array([-1, 0, 1])\n",
        "# Ma trận A gồm các vector v1, v2, v3 làm cột\n",
        "A = np.column_stack((v1, v2, v3))\n",
        "\n",
        "# Trường hợp a: b = (1, 1, 1)\n",
        "b1 = np.array([1, 1, 1])\n",
        "try:\n",
        "    x1 = np.linalg.solve(A, b1)\n",
        "    print(\"a. Vector (1,1,1) là tổ hợp tuyến tính của v1, v2, v3.\")\n",
        "    print(\"Nghiệm:\", x1)\n",
        "except LinAlgError:\n",
        "    print(\"a. Vector (1,1,1) không là tổ hợp tuyến tính.\")\n",
        "\n",
        "# Trường hợp b: b = (1, -2, 2)\n",
        "b2 = np.array([1, -2, 2])\n",
        "try:\n",
        "    x2 = np.linalg.solve(A, b2)\n",
        "    print(\"\\nb. Vector (1,-2,2) là tổ hợp tuyến tính của v1, v2, v3.\")\n",
        "    print(\"Nghiệm:\", x2)\n",
        "except LinAlgError:\n",
        "    print(\"\\nb. Vector (1,-2,2) không là tổ hợp tuyến tính.\")\n"
      ],
      "metadata": {
        "colab": {
          "base_uri": "https://localhost:8080/"
        },
        "id": "senvHS-qQ2rB",
        "outputId": "f5faa031-057a-438c-b282-b9ac8713f511"
      },
      "execution_count": 6,
      "outputs": [
        {
          "output_type": "stream",
          "name": "stdout",
          "text": [
            "a. Vector (1,1,1) là tổ hợp tuyến tính của v1, v2, v3.\n",
            "Nghiệm: [ 5.00000000e-01 -1.66533454e-16 -5.00000000e-01]\n",
            "\n",
            "b. Vector (1,-2,2) là tổ hợp tuyến tính của v1, v2, v3.\n",
            "Nghiệm: [ 3.15251974e+16 -6.30503948e+16  3.15251974e+16]\n"
          ]
        }
      ]
    },
    {
      "cell_type": "code",
      "source": [
        "#Bài 6\n",
        "import sympy as sp\n",
        "c1, c2, c3 = sp.symbols('c1 c2 c3')\n",
        "# Các phương trình từ hệ: c1*v1 + c2*v2 + c3*v3 = 0\n",
        "eq1 = c1 - 2*c3\n",
        "eq2 = 2*c1 + c2\n",
        "eq3 = 3*c1 + 2*c2 + c3\n",
        "\n",
        "solution = sp.solve([eq1, eq2, eq3], [c1, c2, c3])\n",
        "print(\"Nghiệm của hệ là:\", solution)\n"
      ],
      "metadata": {
        "colab": {
          "base_uri": "https://localhost:8080/"
        },
        "id": "yyGMluMbRAS9",
        "outputId": "12233509-3a2c-49ad-849e-f408f771d9d4"
      },
      "execution_count": 3,
      "outputs": [
        {
          "output_type": "stream",
          "name": "stdout",
          "text": [
            "Nghiệm của hệ là: {c1: 0, c2: 0, c3: 0}\n"
          ]
        }
      ]
    },
    {
      "cell_type": "code",
      "source": [
        "#Bài 7\n",
        "import sympy as sp\n",
        "\n",
        "# Khai báo các biến\n",
        "c1, c2 = sp.symbols('c1 c2')\n",
        "u1, u2 = sp.symbols('u1 u2')\n",
        "\n",
        "# 1. Kiểm tra tính tập sinh: giải hệ với u1, u2 bất kỳ\n",
        "print(\"==> Kiểm tra tập sinh:\")\n",
        "eq1 = c1 + c2 - u1\n",
        "eq2 = c1 - c2 - u2\n",
        "sol_general = sp.solve([eq1, eq2], (c1, c2))\n",
        "print(\"Nghiệm tổng quát với u1, u2:\", sol_general)\n",
        "\n",
        "# 2. Kiểm tra độc lập tuyến tính: giải hệ với u1 = u2 = 0\n",
        "print(\"\\n==> Kiểm tra độc lập tuyến tính:\")\n",
        "u1_val = 0\n",
        "u2_val = 0\n",
        "eq1_zero = c1 + c2 - u1_val\n",
        "eq2_zero = c1 - c2 - u2_val\n",
        "sol_zero = sp.solve([eq1_zero, eq2_zero], (c1, c2))\n",
        "print(\"Nghiệm với u = (0,0):\", sol_zero)\n"
      ],
      "metadata": {
        "colab": {
          "base_uri": "https://localhost:8080/"
        },
        "id": "PjhcBRdQRIwk",
        "outputId": "0230e69a-e509-4eaa-d784-f12f5dcb9f1f"
      },
      "execution_count": null,
      "outputs": [
        {
          "output_type": "stream",
          "name": "stdout",
          "text": [
            "==> Kiểm tra tập sinh:\n",
            "Nghiệm tổng quát với u1, u2: {c1: u1/2 + u2/2, c2: u1/2 - u2/2}\n",
            "\n",
            "==> Kiểm tra độc lập tuyến tính:\n",
            "Nghiệm với u = (0,0): {c1: 0, c2: 0}\n"
          ]
        }
      ]
    },
    {
      "cell_type": "markdown",
      "source": [
        "# 2.2\n"
      ],
      "metadata": {
        "id": "k-rnBkPrRPtV"
      }
    },
    {
      "cell_type": "code",
      "source": [
        "#a\n",
        "import numpy as np\n",
        "\n",
        "P = np.array([[0, 0, 3, 3, 1, 1, 2, 2, 1, 1],\n",
        "              [0, 5, 5, 4, 4, 3, 3, 2, 2, 0]])\n",
        "\n",
        "vecdelta = np.array([4, 2])\n",
        "\n",
        "P_caua = (P.T + vecdelta).T\n",
        "\n",
        "print(P_caua)\n"
      ],
      "metadata": {
        "id": "TsfTJqxWRSjk",
        "colab": {
          "base_uri": "https://localhost:8080/"
        },
        "outputId": "5f66dbb9-ba8c-45b9-d39c-5bd8bd800065"
      },
      "execution_count": null,
      "outputs": [
        {
          "output_type": "stream",
          "name": "stdout",
          "text": [
            "[[4 4 7 7 5 5 6 6 5 5]\n",
            " [2 7 7 6 6 5 5 4 4 2]]\n"
          ]
        }
      ]
    },
    {
      "cell_type": "code",
      "source": [
        "#b\n",
        "import numpy as np\n",
        "# Tọa độ ban đầu\n",
        "P = np.array([\n",
        "    [0, 0, 3, 3, 1, 1, 2, 2, 1, 1],   # x\n",
        "    [0, 5, 5, 4, 4, 3, 3, 2, 2, 0]    # y\n",
        "])\n",
        "# Vector tịnh tiến\n",
        "vecdelta = np.array([4, -2])\n",
        "# Ma trận co giãn (chỉ co giãn theo trục y)\n",
        "matran_biendoi = np.array([\n",
        "    [1.0, 0.0],\n",
        "    [0.0, 2.0]\n",
        "])\n",
        "# Thực hiện phép biến đổi (áp dụng co giãn trước, rồi tịnh tiến)\n",
        "P_caub = (P.T @ matran_biendoi + vecdelta).T\n",
        "# In kết quả\n",
        "print(P_caub)\n"
      ],
      "metadata": {
        "colab": {
          "base_uri": "https://localhost:8080/"
        },
        "id": "OiN323zOSZXk",
        "outputId": "7b3fd133-fc5e-4295-e6d8-4ed0e6822906"
      },
      "execution_count": null,
      "outputs": [
        {
          "output_type": "stream",
          "name": "stdout",
          "text": [
            "[[ 4.  4.  7.  7.  5.  5.  6.  6.  5.  5.]\n",
            " [-2.  8.  8.  6.  6.  4.  4.  2.  2. -2.]]\n"
          ]
        }
      ]
    },
    {
      "cell_type": "code",
      "source": [
        "#c\n",
        "import numpy as np\n",
        "import matplotlib.pyplot as plt\n",
        "\n",
        "# Tập tọa độ ban đầu\n",
        "P = np.array([\n",
        "    [0, 0, 3, 3, 1, 1, 2, 2, 1, 1],   # x\n",
        "    [0, 5, 5, 4, 4, 3, 3, 2, 2, 0]    # y\n",
        "])\n",
        "\n",
        "# Ma trận đối xứng theo trục y\n",
        "mat_sym_y = np.array([\n",
        "    [-1, 0],\n",
        "    [ 0, 1]\n",
        "])\n",
        "\n",
        "# Vector tịnh tiến (a = 4, b = 1)\n",
        "vec_delta = np.array([4, 1])\n",
        "\n",
        "# Thực hiện biến đổi: đối xứng → rồi tịnh tiến\n",
        "P_new = (mat_sym_y @ P) + vec_delta.reshape(2, 1)\n",
        "\n",
        "# In kết quả\n",
        "print(\"Kết quả sau biến đổi:\")\n",
        "print(P_new)"
      ],
      "metadata": {
        "colab": {
          "base_uri": "https://localhost:8080/"
        },
        "id": "q4IaRbvUSnas",
        "outputId": "0aa780d8-3970-4a36-e7d7-7f040d539bfb"
      },
      "execution_count": null,
      "outputs": [
        {
          "output_type": "stream",
          "name": "stdout",
          "text": [
            "Kết quả sau biến đổi:\n",
            "[[4 4 1 1 3 3 2 2 3 3]\n",
            " [1 6 6 5 5 4 4 3 3 1]]\n"
          ]
        }
      ]
    },
    {
      "cell_type": "markdown",
      "source": [
        "# 3"
      ],
      "metadata": {
        "id": "yd-teU0YS9i4"
      }
    },
    {
      "cell_type": "code",
      "source": [
        "# 1 a\n",
        "import sympy as sp\n",
        "from sympy import lambdify\n",
        "\n",
        "# Khai báo biến đầu vào\n",
        "x1, x2, x3 = sp.symbols('x1 x2 x3')\n",
        "\n",
        "# Biểu thức f(x1, x2, x3) = x1 - x2 + x3\n",
        "bieuthuc1 = x1 - x2 + x3\n",
        "\n",
        "# Chuyển biểu thức thành hàm có thể gọi\n",
        "f1 = lambdify([x1, x2, x3], bieuthuc1, 'numpy')\n",
        "\n",
        "# Khai báo các biến a, b, c tương ứng với vector X\n",
        "a, b, c = sp.symbols('a b c')\n",
        "\n",
        "# Khai báo các biến d, e, f tương ứng với vector Y\n",
        "d, e, f = sp.symbols('d e f')\n",
        "\n",
        "# Kiểm tra các giá trị\n",
        "print(\"f1(a, b, c) =\", f1(a, b, c))          # → a - b + c\n",
        "print(\"f1(d, e, f) =\", f1(d, e, f))          # → d - e + f\n",
        "print(\"f1(a+d, b+e, c+f) =\", f1(a + d, b + e, c + f))  # → a - b + c + d - e + f\n",
        "\n",
        "# Kiểm tra tuyến tính cộng\n",
        "result1 = f1(a, b, c) + f1(d, e, f) == f1(a + d, b + e, c + f)\n",
        "print(\"Cộng: f1(X) + f1(Y) == f1(X + Y)?\", result1)\n",
        "\n",
        "# Kiểm tra bằng equals()\n",
        "result2 = (f1(a, b, c) + f1(d, e, f)).equals(f1(a + d, b + e, c + f))\n",
        "print(\"Cộng (equals):\", result2)\n",
        "\n",
        "# Kiểm tra tính đồng biến tuyến tính (homogeneity)\n",
        "q = sp.symbols('q')\n",
        "left = q * f1(a, b, c) + f1(d, e, f)\n",
        "right = f1(q * a + d, q * b + e, q * c + f)\n",
        "result3 = left.equals(right.expand())  # phải expand để khai triển vế phải\n",
        "print(\"Đồng biến tuyến tính (homogeneity):\", result3)\n",
        "\n"
      ],
      "metadata": {
        "colab": {
          "base_uri": "https://localhost:8080/"
        },
        "id": "d92wqZImS0kP",
        "outputId": "e05dd167-b7e8-4cc9-865a-15f013f16531"
      },
      "execution_count": null,
      "outputs": [
        {
          "output_type": "stream",
          "name": "stdout",
          "text": [
            "f1(a, b, c) = a - b + c\n",
            "f1(d, e, f) = d - e + f\n",
            "f1(a+d, b+e, c+f) = a - b + c + d - e + f\n",
            "Cộng: f1(X) + f1(Y) == f1(X + Y)? True\n",
            "Cộng (equals): True\n",
            "Đồng biến tuyến tính (homogeneity): True\n"
          ]
        }
      ]
    },
    {
      "cell_type": "code",
      "source": [
        "#1b\n",
        "import sympy as sp\n",
        "from sympy import lambdify\n",
        "\n",
        "# Biến\n",
        "x1, x2, x3 = sp.symbols('x1 x2 x3')\n",
        "a, b, c = sp.symbols('a b c')\n",
        "d, e, f = sp.symbols('d e f')\n",
        "q = sp.symbols('q')\n",
        "\n",
        "# Định nghĩa biểu thức f2 = 2*x2 + 3*x3\n",
        "bieuthuc2 = 2*x2 + 3*x3\n",
        "f2 = lambdify([x1, x2, x3], bieuthuc2, 'numpy')\n",
        "\n",
        "# Kiểm tra tính đồng biến tuyến tính:\n",
        "result = (q*f2(a,b,c) + f2(d,e,f)).equals(f2(q*a + d, q*b + e, q*c + f).expand())\n",
        "print(\"Đồng biến tuyến tính (f2):\", result)\n"
      ],
      "metadata": {
        "colab": {
          "base_uri": "https://localhost:8080/"
        },
        "id": "hovg_2iLTQHM",
        "outputId": "b769f39e-e3c2-4b42-b288-0f9461eb41d8"
      },
      "execution_count": null,
      "outputs": [
        {
          "output_type": "stream",
          "name": "stdout",
          "text": [
            "Đồng biến tuyến tính (f2): True\n"
          ]
        }
      ]
    },
    {
      "cell_type": "code",
      "source": [
        "#3a\n",
        "import sympy as sp\n",
        "\n",
        "a, b = sp.symbols('a b')\n",
        "x, y = sp.symbols('x y')\n",
        "\n",
        "# Giải hệ phương trình\n",
        "solution = sp.solve([a + 3*b - x, 2*a + 5*b - y], [a, b])\n",
        "print(solution)\n",
        "\n"
      ],
      "metadata": {
        "colab": {
          "base_uri": "https://localhost:8080/"
        },
        "id": "AKBNiqHvTbrc",
        "outputId": "5f3ccc28-7934-4278-e33d-afce8a750842"
      },
      "execution_count": null,
      "outputs": [
        {
          "output_type": "stream",
          "name": "stdout",
          "text": [
            "{a: -5*x + 3*y, b: 2*x - y}\n"
          ]
        }
      ]
    },
    {
      "cell_type": "code",
      "source": [
        "#3b\n",
        "import numpy as np\n",
        "import sympy as sp\n",
        "\n",
        "# Khai báo biến biểu thức\n",
        "a, b, x, y = sp.symbols('a b x y')\n",
        "\n",
        "# Vector thực ban đầu\n",
        "fu1 = np.array([1, 1, 2], dtype=object)  # dtype=object để chứa biểu thức sympy\n",
        "fu2 = np.array([4, 2, 1], dtype=object)\n",
        "\n",
        "# Tổ hợp tuyến tính ban đầu theo a, b\n",
        "fu = a * fu1 + b * fu2\n",
        "print(\"Tổ hợp tuyến tính chưa thay a, b:\")\n",
        "print(fu)  # Kết quả: [a + 4*b  a + 2*b  2*a + b]\n",
        "\n",
        "# Gán a = -5x + 3y và b = 2x - y (từ nghiệm đã giải hệ)\n",
        "a_val = -5*x + 3*y\n",
        "b_val = 2*x - y\n",
        "\n",
        "# Thay vào tổ hợp tuyến tính\n",
        "fu_sub = a_val * fu1 + b_val * fu2\n",
        "print(\"\\nTổ hợp tuyến tính sau khi thay a, b:\")\n",
        "print(fu_sub)  # Kết quả: [3*x - y  -x + y  -8*x + 5*y]\n"
      ],
      "metadata": {
        "colab": {
          "base_uri": "https://localhost:8080/"
        },
        "id": "172xIncOTkhF",
        "outputId": "901b29ef-1e53-45b6-a572-42109727b620"
      },
      "execution_count": null,
      "outputs": [
        {
          "output_type": "stream",
          "name": "stdout",
          "text": [
            "Tổ hợp tuyến tính chưa thay a, b:\n",
            "[a + 4*b a + 2*b 2*a + b]\n",
            "\n",
            "Tổ hợp tuyến tính sau khi thay a, b:\n",
            "[3*x - y -x + y -8*x + 5*y]\n"
          ]
        }
      ]
    },
    {
      "cell_type": "code",
      "source": [
        "#4\n",
        "import sympy as sp\n",
        "\n",
        "# Khai báo biến\n",
        "x1, x2, x3 = sp.symbols('x1 x2 x3')\n",
        "\n",
        "# Giải hệ phương trình\n",
        "solution = sp.solve([\n",
        "    x1 + x2 - x3,\n",
        "    2*x1 + 3*x2 - x3,\n",
        "    3*x1 + 5*x2 - x3\n",
        "], [x1, x2, x3])\n",
        "\n",
        "print(solution)\n"
      ],
      "metadata": {
        "colab": {
          "base_uri": "https://localhost:8080/"
        },
        "id": "2ppY52NsT0My",
        "outputId": "3a5352e5-ac03-426c-d254-162ab44d47b5"
      },
      "execution_count": null,
      "outputs": [
        {
          "output_type": "stream",
          "name": "stdout",
          "text": [
            "{x1: 2*x3, x2: -x3}\n"
          ]
        }
      ]
    },
    {
      "cell_type": "code",
      "source": [
        "#6\n",
        "import numpy as np\n",
        "import math\n",
        "from scipy import linalg as LA\n",
        "\n",
        "# Tạo ma trận B với các cột không trực giao\n",
        "B = np.matrix([\n",
        "    [1.0 / math.sqrt(2),  1.0 / math.sqrt(2)],\n",
        "    [-1.0 / math.sqrt(2), 1.0 / math.sqrt(2)]\n",
        "])\n",
        "\n",
        "# In ma trận ban đầu\n",
        "print(\"Ma trận B:\")\n",
        "print(B)\n",
        "\n",
        "# Tính cơ sở trực giao của không gian cột ma trận B\n",
        "orth_basis = LA.orth(B)\n",
        "\n",
        "# In kết quả\n",
        "print(\"\\nCơ sở trực giao của B:\")\n",
        "print(orth_basis)\n",
        "\n",
        "# So sánh với giá trị gần đúng của 1/sqrt(2)\n",
        "print(\"\\n1.0 / sqrt(2) ≈\", 1.0 / math.sqrt(2))\n",
        "\n"
      ],
      "metadata": {
        "colab": {
          "base_uri": "https://localhost:8080/"
        },
        "id": "xY7xMQ2fT8oV",
        "outputId": "7b249601-ea7c-4a74-a62b-954695eeaadf"
      },
      "execution_count": null,
      "outputs": [
        {
          "output_type": "stream",
          "name": "stdout",
          "text": [
            "Ma trận B:\n",
            "[[ 0.70710678  0.70710678]\n",
            " [-0.70710678  0.70710678]]\n",
            "\n",
            "Cơ sở trực giao của B:\n",
            "[[-0.70710678  0.70710678]\n",
            " [ 0.70710678  0.70710678]]\n",
            "\n",
            "1.0 / sqrt(2) ≈ 0.7071067811865475\n"
          ]
        }
      ]
    },
    {
      "cell_type": "markdown",
      "source": [
        "# Bài tập"
      ],
      "metadata": {
        "id": "89KRtNqrULtP"
      }
    },
    {
      "cell_type": "code",
      "source": [
        "# Bài 1\n",
        "import sympy as sp\n",
        "\n",
        "# Khai báo biến\n",
        "x, y, z = sp.symbols('x y z')\n",
        "u1, u2, u3 = sp.symbols('u1 u2 u3')\n",
        "v1, v2, v3 = sp.symbols('v1 v2 v3')\n",
        "k = sp.symbols('k')\n",
        "\n",
        "# Định nghĩa ánh xạ g(x, y, z) = (x + y, z + 2, 0)\n",
        "def g(v):\n",
        "    return sp.Matrix([v[0] + v[1], v[2] + 2, 0])\n",
        "\n",
        "# Kiểm tra g(0) == 0?\n",
        "zero = sp.Matrix([0, 0, 0])\n",
        "print(\"g(0, 0, 0):\", g(zero))\n",
        "\n",
        "# Kiểm tra tính cộng: g(u + v) == g(u) + g(v) ?\n",
        "u = sp.Matrix([u1, u2, u3])\n",
        "v = sp.Matrix([v1, v2, v3])\n",
        "\n",
        "lhs_add = g(u + v)\n",
        "rhs_add = g(u) + g(v)\n",
        "print(\"\\ng(u + v):\", lhs_add)\n",
        "print(\"g(u) + g(v):\", rhs_add)\n",
        "print(\"Tính cộng đúng?\", lhs_add.equals(rhs_add))\n",
        "\n",
        "# Kiểm tra tính nhân vô hướng: g(k*u) == k * g(u)\n",
        "lhs_scalar = g(k * u)\n",
        "rhs_scalar = k * g(u)\n",
        "print(\"\\ng(k*u):\", lhs_scalar)\n",
        "print(\"k * g(u):\", rhs_scalar)\n",
        "print(\"Tính nhân vô hướng đúng?\", lhs_scalar.equals(rhs_scalar))\n",
        "print(\"Hàm g(x, y, z) = (x + y, z + 2, 0) KHÔNG phải là ánh xạ tuyến tính.\")\n"
      ],
      "metadata": {
        "colab": {
          "base_uri": "https://localhost:8080/"
        },
        "id": "IgbNwP9_UNYW",
        "outputId": "783faad2-f26e-4531-9b8f-2bebe7a1053f"
      },
      "execution_count": null,
      "outputs": [
        {
          "output_type": "stream",
          "name": "stdout",
          "text": [
            "g(0, 0, 0): Matrix([[0], [2], [0]])\n",
            "\n",
            "g(u + v): Matrix([[u1 + u2 + v1 + v2], [u3 + v3 + 2], [0]])\n",
            "g(u) + g(v): Matrix([[u1 + u2 + v1 + v2], [u3 + v3 + 4], [0]])\n",
            "Tính cộng đúng? False\n",
            "\n",
            "g(k*u): Matrix([[k*u1 + k*u2], [k*u3 + 2], [0]])\n",
            "k * g(u): Matrix([[k*(u1 + u2)], [k*(u3 + 2)], [0]])\n",
            "Tính nhân vô hướng đúng? False\n",
            "Hàm g(x, y, z) = (x + y, z + 2, 0) KHÔNG phải là ánh xạ tuyến tính.\n"
          ]
        }
      ]
    },
    {
      "cell_type": "code",
      "source": [
        "#Bài 2\n",
        "import numpy as np\n",
        "import matplotlib.pyplot as plt\n",
        "\n",
        "# 1. Tập điểm hình vuông ban đầu\n",
        "# Các điểm theo chiều kim đồng hồ (hoặc ngược cũng được)\n",
        "P = np.array([\n",
        "    [0, 1, 1, 0, 0],  # x tọa độ\n",
        "    [0, 0, 1, 1, 0]   # y tọa độ\n",
        "])\n",
        "\n",
        "# 2. Ma trận biến đổi\n",
        "A = np.array([\n",
        "    [0, 1],\n",
        "    [1, -1]\n",
        "])\n",
        "\n",
        "# 3. Áp dụng phép biến đổi\n",
        "P_bien_doi = A @ P\n",
        "\n",
        "# 4. Vẽ kết quả\n",
        "plt.figure(figsize=(6, 6))\n",
        "plt.plot(P[0], P[1], 'b-', label='Hình gốc', linewidth=2)\n",
        "plt.plot(P_bien_doi[0], P_bien_doi[1], 'g-', label='Sau biến đổi', linewidth=2)\n",
        "plt.axhline(0, color='gray', linewidth=0.5)\n",
        "plt.axvline(0, color='gray', linewidth=0.5)\n",
        "plt.grid(True)\n",
        "plt.gca().set_aspect('equal', adjustable='box')\n",
        "plt.legend()\n",
        "plt.title('Biến đổi tuyến tính: A = [[0, 1], [1, -1]]')\n",
        "plt.show()\n"
      ],
      "metadata": {
        "colab": {
          "base_uri": "https://localhost:8080/",
          "height": 547
        },
        "id": "el2yJmfZU0vT",
        "outputId": "bdff2600-701e-458f-95b9-b17addc41a0c"
      },
      "execution_count": null,
      "outputs": [
        {
          "output_type": "display_data",
          "data": {
            "text/plain": [
              "<Figure size 600x600 with 1 Axes>"
            ],
            "image/png": "[encoded data removed]"
          },
          "metadata": {}
        }
      ]
    },
    {
      "cell_type": "code",
      "source": [
        "#Bài 3\n",
        "import sympy as sp\n",
        "\n",
        "# Khai báo biến\n",
        "v1, v2 = sp.symbols('v1 v2')\n",
        "u1, u2 = sp.symbols('u1 u2')\n",
        "k = sp.symbols('k')\n",
        "\n",
        "# Định nghĩa ánh xạ T(v1, v2)\n",
        "def T(v1, v2):\n",
        "    return sp.Matrix([v1 - v2, v1 + 2*v2])\n",
        "\n",
        "# Vector u và v\n",
        "u = sp.Matrix([u1, u2])\n",
        "v = sp.Matrix([v1, v2])\n",
        "\n",
        "# Tính cộng: T(u + v) == T(u) + T(v)\n",
        "T_u_plus_v = T(u1 + v1, u2 + v2)\n",
        "T_u_plus_T_v = T(u1, u2) + T(v1, v2)\n",
        "\n",
        "print(\"Tính cộng đúng?:\", T_u_plus_v.equals(T_u_plus_T_v))\n",
        "\n",
        "# Tính nhân vô hướng: T(k * v) == k * T(v)\n",
        "T_kv = T(k*v1, k*v2)\n",
        "k_Tv = k * T(v1, v2)\n",
        "\n",
        "print(\"Tính nhân vô hướng đúng?:\", T_kv.equals(k_Tv))\n",
        "print(\"Ánh xạ 𝑇 ( 𝑣 1 , 𝑣 2 ) = ( 𝑣 1 − 𝑣 2 , 𝑣 1 + 2 𝑣 2 ) T(v 1 ​ ,v 2 ​ )=(v 1 ​ −v 2 ​ , v 1 ​ +2v 2 ​ ) là ánh xạ tuyến tính Ánh xạ \")\n"
      ],
      "metadata": {
        "colab": {
          "base_uri": "https://localhost:8080/"
        },
        "id": "zLAGbJ_KU-Cz",
        "outputId": "2211444b-a06d-4ce9-fe38-726330986a26"
      },
      "execution_count": null,
      "outputs": [
        {
          "output_type": "stream",
          "name": "stdout",
          "text": [
            "Tính cộng đúng?: True\n",
            "Tính nhân vô hướng đúng?: True\n",
            "Ánh xạ 𝑇 ( 𝑣 1 , 𝑣 2 ) = ( 𝑣 1 − 𝑣 2 , 𝑣 1 + 2 𝑣 2 ) T(v 1 ​ ,v 2 ​ )=(v 1 ​ −v 2 ​ , v 1 ​ +2v 2 ​ ) là ánh xạ tuyến tính Ánh xạ \n"
          ]
        }
      ]
    },
    {
      "cell_type": "code",
      "source": [
        "#Bài 4\n",
        "import sympy as sp\n",
        "\n",
        "# Khai báo hệ số phương trình: ax^2 + bxy + cy^2\n",
        "a, b, c = 13, -10, 13\n",
        "\n",
        "# Ma trận đối xứng A\n",
        "A = sp.Matrix([\n",
        "    [a, b/2],\n",
        "    [b/2, c]\n",
        "])\n",
        "\n",
        "print(\"Ma trận A:\")\n",
        "sp.pprint(A)\n",
        "\n",
        "# Tính các giá trị riêng (eigenvalues) và vector riêng\n",
        "eigval, eigvec = A.diagonalize()\n",
        "print(\"\\nMa trận đường chéo D (giá trị riêng):\")\n",
        "sp.pprint(eigval)\n",
        "\n",
        "print(\"\\nMa trận P (vector riêng chuẩn hóa):\")\n",
        "sp.pprint(eigvec)\n",
        "\n",
        "# Tính góc xoay θ bằng công thức tan(2θ) = b / (a - c)\n",
        "if a != c:\n",
        "    tan2theta = b / (a - c)\n",
        "    print(\"\\ntan(2θ) =\", tan2theta)\n",
        "    theta_rad = 0.5 * sp.atan(tan2theta)\n",
        "    theta_deg = sp.deg(theta_rad)\n",
        "    print(\"Góc xoay θ (theo độ):\", theta_deg.evalf())\n",
        "else:\n",
        "    # a == c thì tan(2θ) vô cùng, góc = 45 hoặc 135 độ\n",
        "    print(\"\\na = c ⇒ tan(2θ) → ∞ ⇒ θ = 45° hoặc 135°\")\n"
      ],
      "metadata": {
        "colab": {
          "base_uri": "https://localhost:8080/"
        },
        "id": "KL5qBx1yVoAI",
        "outputId": "8c787577-e130-45ba-b99a-f88a30dfca5b"
      },
      "execution_count": null,
      "outputs": [
        {
          "output_type": "stream",
          "name": "stdout",
          "text": [
            "Ma trận A:\n",
            "⎡ 13   -5.0⎤\n",
            "⎢          ⎥\n",
            "⎣-5.0   13 ⎦\n",
            "\n",
            "Ma trận đường chéo D (giá trị riêng):\n",
            "⎡-0.707106781186548  0.707106781186548 ⎤\n",
            "⎢                                      ⎥\n",
            "⎣-0.707106781186548  -0.707106781186548⎦\n",
            "\n",
            "Ma trận P (vector riêng chuẩn hóa):\n",
            "⎡8.0   0  ⎤\n",
            "⎢         ⎥\n",
            "⎣ 0   18.0⎦\n",
            "\n",
            "a = c ⇒ tan(2θ) → ∞ ⇒ θ = 45° hoặc 135°\n"
          ]
        }
      ]
    }
  ]
}