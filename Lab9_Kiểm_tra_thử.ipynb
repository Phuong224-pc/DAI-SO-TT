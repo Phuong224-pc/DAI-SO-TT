{
  "nbformat": 4,
  "nbformat_minor": 0,
  "metadata": {
    "colab": {
      "provenance": []
    },
    "kernelspec": {
      "name": "python3",
      "display_name": "Python 3"
    },
    "language_info": {
      "name": "python"
    }
  },
  "cells": [
    {
      "cell_type": "code",
      "execution_count": 3,
      "metadata": {
        "colab": {
          "base_uri": "https://localhost:8080/"
        },
        "id": "BiWIQ6y3Dz0D",
        "outputId": "5598189f-dc04-4f2b-faf4-dfc909f4253f"
      },
      "outputs": [
        {
          "output_type": "stream",
          "name": "stdout",
          "text": [
            "a) A + B = [3 3 1 5]\n",
            "   3A - 2B = [  4 -11  13 -10]\n",
            "\n",
            "b) A · B = -8\n",
            "   Góc giữa A và B (độ): 108.376\n",
            "\n",
            "c) C^T * C =\n",
            " [[ 5  0 -1]\n",
            " [ 0 14 10]\n",
            " [-1 10 17]]\n"
          ]
        }
      ],
      "source": [
        "#Bài 1\n",
        "import numpy as np\n",
        "from numpy.linalg import norm\n",
        "from math import degrees, acos\n",
        "A = np.array([2, -1, 3, 0])\n",
        "B = np.array([1, 4, -2, 5])\n",
        "C = np.array([\n",
        "    [1, 2, -1],\n",
        "    [0, 3, 4],\n",
        "    [2, -1, 0]\n",
        "])\n",
        "\n",
        "# a) Tổng A + B và tích số 3A - 2B\n",
        "sum_AB = A + B\n",
        "lin_comb = 3 * A - 2 * B\n",
        "\n",
        "# b) Tích vô hướng và góc giữa 2 vector\n",
        "dot_AB = np.dot(A, B)\n",
        "cos_theta = dot_AB / (norm(A) * norm(B))\n",
        "theta_deg = degrees(acos(cos_theta))\n",
        "\n",
        "# c) Tích ma trận C^T * C\n",
        "CTC = C.T @ C\n",
        "\n",
        "# In kết quả\n",
        "print(\"a) A + B =\", sum_AB)\n",
        "print(\"   3A - 2B =\", lin_comb)\n",
        "\n",
        "print(\"\\nb) A · B =\", dot_AB)\n",
        "print(\"   Góc giữa A và B (độ):\", round(theta_deg, 3))\n",
        "\n",
        "print(\"\\nc) C^T * C =\\n\", CTC)\n"
      ]
    },
    {
      "cell_type": "code",
      "source": [
        "#Bài 2\n",
        "import numpy as np\n",
        "M = np.array([\n",
        "    [1, 2, 3, 0],\n",
        "    [4, 5, 6, 1],\n",
        "    [7, 8, 9, 2],\n",
        "    [0, 1, 1, 0]\n",
        "])\n",
        "\n",
        "N = np.array([\n",
        "    [0, 1, 2, 3],\n",
        "    [4, 5, 6, 7],\n",
        "    [8, 9, 10, 11],\n",
        "    [12, 13, 14, 15]\n",
        "])\n",
        "\n",
        "# a) Tích M x N\n",
        "product = M @ N\n",
        "\n",
        "# b) Định thức của ma trận M (nếu có thể)\n",
        "try:\n",
        "    det_M = np.linalg.det(M)\n",
        "    det_msg = f\"Định thức của M: {round(det_M, 2)}\"\n",
        "except np.linalg.LinAlgError:\n",
        "    det_msg = \"Không thể tính định thức vì M không phải là ma trận vuông.\"\n",
        "\n",
        "# c) Tính hạng của ma trận N\n",
        "rank_N = np.linalg.matrix_rank(N)\n",
        "\n",
        "# In kết quả\n",
        "print(\"a) Tích M x N:\\n\", product)\n",
        "print(\"\\nb)\", det_msg)\n",
        "print(\"\\nc) Hạng của ma trận N:\", rank_N)\n"
      ],
      "metadata": {
        "colab": {
          "base_uri": "https://localhost:8080/"
        },
        "id": "HXQ8uP9xEkSW",
        "outputId": "d4b7ce0e-8ac3-4da0-9e3c-8989a7985aaa"
      },
      "execution_count": 4,
      "outputs": [
        {
          "output_type": "stream",
          "name": "stdout",
          "text": [
            "a) Tích M x N:\n",
            " [[ 32  38  44  50]\n",
            " [ 80  96 112 128]\n",
            " [128 154 180 206]\n",
            " [ 12  14  16  18]]\n",
            "\n",
            "b) Định thức của M: 0.0\n",
            "\n",
            "c) Hạng của ma trận N: 2\n"
          ]
        }
      ]
    },
    {
      "cell_type": "code",
      "source": [
        "#Bài 3\n",
        "import numpy as np\n",
        "P = np.array([\n",
        "    [2, 1, 0, -1],\n",
        "    [0, 3, 1, -1],\n",
        "    [1, 0, 4, 2],\n",
        "    [0, 1, 0, 3]\n",
        "])\n",
        "b = np.array([4, 7, 9, 5])\n",
        "# a) Tính ma trận nghịch đảo của P (nếu có)\n",
        "try:\n",
        "    P_inv = np.linalg.inv(P)\n",
        "    print(\"a) Ma trận nghịch đảo P⁻¹:\\n\", np.round(P_inv, 3))\n",
        "except np.linalg.LinAlgError:\n",
        "    print(\"a) Ma trận P không khả nghịch (det(P) = 0)\")\n",
        "# b) Giải hệ phương trình x = P⁻¹ * b\n",
        "try:\n",
        "    x = np.linalg.solve(P, b)\n",
        "    print(\"\\nb) Nghiệm của hệ phương trình:\\n\", np.round(x, 3))\n",
        "except np.linalg.LinAlgError:\n",
        "    print(\"\\nb) Không thể giải hệ phương trình vì P không khả nghịch\")\n",
        "# c) Kiểm tra lại bằng cách nhân P * x = b?\n",
        "if 'x' in locals():\n",
        "    check = np.dot(P, x)\n",
        "    print(\"\\nc) Kiểm tra lại P * x:\\n\", np.round(check, 3))\n",
        "    print(\"   So sánh với b:\", b)\n"
      ],
      "metadata": {
        "colab": {
          "base_uri": "https://localhost:8080/"
        },
        "id": "Yt361NCEExgi",
        "outputId": "d62778df-5f46-4d62-c567-bc3d66229439"
      },
      "execution_count": 5,
      "outputs": [
        {
          "output_type": "stream",
          "name": "stdout",
          "text": [
            "a) Ma trận nghịch đảo P⁻¹:\n",
            " [[ 0.477 -0.182  0.045  0.068]\n",
            " [ 0.034  0.273 -0.068  0.148]\n",
            " [-0.114  0.091  0.227 -0.159]\n",
            " [-0.011 -0.091  0.023  0.284]]\n",
            "\n",
            "b) Nghiệm của hệ phương trình:\n",
            " [1.386 2.17  1.432 0.943]\n",
            "\n",
            "c) Kiểm tra lại P * x:\n",
            " [4. 7. 9. 5.]\n",
            "   So sánh với b: [4 7 9 5]\n"
          ]
        }
      ]
    },
    {
      "cell_type": "code",
      "source": [
        "#Bài 4\n",
        "import numpy as np\n",
        "\n",
        "# a) Tìm giá trị riêng và vector riêng\n",
        "Q = np.array([\n",
        "    [4, -1, 0],\n",
        "    [1, 3, -2],\n",
        "    [0, 1, 2]\n",
        "])\n",
        "eigenvalues, eigenvectors = np.linalg.eig(Q)\n",
        "# a) Giá trị riêng\n",
        "print(\"a) Các giá trị riêng của Q:\")\n",
        "print(np.round(eigenvalues, 3))\n",
        "# b) Vector riêng tương ứng\n",
        "print(\"\\nb) Các vector riêng (cột là vector riêng tương ứng):\")\n",
        "print(np.round(eigenvectors, 3))\n",
        "# c) Chuẩn hóa vector riêng\n",
        "norm_vectors = eigenvectors / np.linalg.norm(eigenvectors, axis=0)\n",
        "print(\"\\nc) Vector riêng sau chuẩn hóa (độ dài = 1):\")\n",
        "print(np.round(norm_vectors, 3))\n"
      ],
      "metadata": {
        "colab": {
          "base_uri": "https://localhost:8080/"
        },
        "id": "jwpW1Vj2HxYP",
        "outputId": "8ee49dff-573a-4200-e141-a2ac8a9a09a3"
      },
      "execution_count": 18,
      "outputs": [
        {
          "output_type": "stream",
          "name": "stdout",
          "text": [
            "a) Các giá trị riêng của Q:\n",
            "[3.453+0.j    2.773+1.468j 2.773-1.468j]\n",
            "\n",
            "b) Các vector riêng (cột là vector riêng tương ứng):\n",
            "[[ 0.833+0.j    -0.262-0.314j -0.262+0.314j]\n",
            " [ 0.455+0.j    -0.782+0.j    -0.782-0.j   ]\n",
            " [ 0.313+0.j    -0.22 +0.417j -0.22 -0.417j]]\n",
            "\n",
            "c) Vector riêng sau chuẩn hóa (độ dài = 1):\n",
            "[[ 0.833+0.j    -0.262-0.314j -0.262+0.314j]\n",
            " [ 0.455+0.j    -0.782+0.j    -0.782+0.j   ]\n",
            " [ 0.313+0.j    -0.22 +0.417j -0.22 -0.417j]]\n"
          ]
        }
      ]
    },
    {
      "cell_type": "code",
      "source": [
        "import numpy as np\n",
        "R = np.array([\n",
        "    [1, -2, 3],\n",
        "    [2,  0, 1],\n",
        "    [-1, 1, 4]\n",
        "])\n",
        "b = np.array([10, 8, 7])\n",
        "# a) Giải hệ phương trình Rx = b\n",
        "x_solve = np.linalg.solve(R, b)\n",
        "print(\"a) Nghiệm x của hệ phương trình Rx = b:\")\n",
        "print(\"   x =\", np.round(x_solve, 3))\n",
        "# b) Kiểm tra khả nghịch và giải lại bằng nghịch đảo nếu có\n",
        "det_R = np.linalg.det(R)\n",
        "if det_R != 0:\n",
        "    R_inv = np.linalg.inv(R)\n",
        "    x_via_inverse = R_inv @ b\n",
        "    print(\"\\nb) R khả nghịch vì det(R) =\", round(det_R, 3))\n",
        "    print(\"   Nghiệm x tính bằng R⁻¹ @ b:\", np.round(x_via_inverse, 3))\n",
        "    print(\"   So sánh với np.linalg.solve:\", np.allclose(x_solve, x_via_inverse))\n",
        "else:\n",
        "    print(\"\\nb) R không khả nghịch vì det(R) =\", round(det_R, 3))\n",
        "# c) Tính chuẩn Frobenius của ma trận R\n",
        "frobenius_norm = np.linalg.norm(R, ord='fro')\n",
        "print(\"\\nc) Chuẩn Frobenius của R =\", round(frobenius_norm, 3))\n"
      ],
      "metadata": {
        "colab": {
          "base_uri": "https://localhost:8080/"
        },
        "id": "AuhEs3GiFUQ2",
        "outputId": "c5c4e421-da64-4051-f4e4-d3c5f54c3431"
      },
      "execution_count": 9,
      "outputs": [
        {
          "output_type": "stream",
          "name": "stdout",
          "text": [
            "a) Nghiệm x của hệ phương trình Rx = b:\n",
            "   x = [2.783 0.043 2.435]\n",
            "\n",
            "b) R khả nghịch vì det(R) = 23.0\n",
            "   Nghiệm x tính bằng R⁻¹ @ b: [2.783 0.043 2.435]\n",
            "   So sánh với np.linalg.solve: True\n",
            "\n",
            "c) Chuẩn Frobenius của R = 6.083\n"
          ]
        }
      ]
    }
  ]
}