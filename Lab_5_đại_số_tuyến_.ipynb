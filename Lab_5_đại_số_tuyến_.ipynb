{
  "nbformat": 4,
  "nbformat_minor": 0,
  "metadata": {
    "colab": {
      "provenance": []
    },
    "kernelspec": {
      "name": "python3",
      "display_name": "Python 3"
    },
    "language_info": {
      "name": "python"
    }
  },
  "cells": [
    {
      "cell_type": "markdown",
      "source": [
        "#Bài thực hành"
      ],
      "metadata": {
        "id": "mOHLdfarL8s9"
      }
    },
    {
      "cell_type": "code",
      "execution_count": null,
      "metadata": {
        "colab": {
          "base_uri": "https://localhost:8080/"
        },
        "id": "-PnkdI7WG0xx",
        "outputId": "4563e9f1-31c2-4328-e2fb-5473c9711983"
      },
      "outputs": [
        {
          "output_type": "stream",
          "name": "stdout",
          "text": [
            "Lỗi: name 'E' is not defined\n",
            "Ma trận E sau khi copy từ D:\n",
            "[[1 2]\n",
            " [3 4]]\n"
          ]
        }
      ],
      "source": [
        "#Bài 1\n",
        "import numpy as np\n",
        "\n",
        "D = np.array([[1, 2], [3, 4]])\n",
        "try:\n",
        "    np.copyto(E, D)\n",
        "except NameError as e:\n",
        "    print(\"Lỗi:\", e)\n",
        "\n",
        "E = np.array([[1, 2], [3, 5]])\n",
        "\n",
        "np.copyto(E, D)\n",
        "\n",
        "print(\"Ma trận E sau khi copy từ D:\")\n",
        "print(E)\n"
      ]
    },
    {
      "cell_type": "code",
      "source": [
        "# Bài 1.2\n",
        "import numpy as np\n",
        "\n",
        "print(\"=== Ví dụ 1: Sử dụng numpy.matrix chứa phần tử là object ===\")\n",
        "x = np.array([['a', 'b'], ['c', 'd']])\n",
        "y = 'x'\n",
        "C = np.matrix([[x, y], [1, 2]], dtype=object)\n",
        "print(\"Ma trận C:\")\n",
        "print(C)\n",
        "\n",
        "print(\"\\n=== Ví dụ 2: Không thể tạo np.matrix 3 chiều ===\")\n",
        "try:\n",
        "    A = np.matrix([[[1, 2], [3, 4]], [[5, 6], [7, 8]]])\n",
        "except ValueError as e:\n",
        "    print(\"Lỗi:\", e)\n",
        "\n",
        "print(\"\\n=== Ví dụ 3: Tạo np.array 3 chiều thành công ===\")\n",
        "A = np.array([[[1, 2], [3, 4]], [[5, 6], [7, 8]]])\n",
        "print(\"Mảng A:\")\n",
        "print(A)\n"
      ],
      "metadata": {
        "colab": {
          "base_uri": "https://localhost:8080/"
        },
        "id": "mlgZshJTHhdk",
        "outputId": "b09a7118-a90d-40b4-eb83-76fd21af75e5"
      },
      "execution_count": null,
      "outputs": [
        {
          "output_type": "stream",
          "name": "stdout",
          "text": [
            "=== Ví dụ 1: Sử dụng numpy.matrix chứa phần tử là object ===\n",
            "Ma trận C:\n",
            "[[array([['a', 'b'],\n",
            "         ['c', 'd']], dtype='<U1') 'x']\n",
            " [1 2]]\n",
            "\n",
            "=== Ví dụ 2: Không thể tạo np.matrix 3 chiều ===\n",
            "Lỗi: matrix must be 2-dimensional\n",
            "\n",
            "=== Ví dụ 3: Tạo np.array 3 chiều thành công ===\n",
            "Mảng A:\n",
            "[[[1 2]\n",
            "  [3 4]]\n",
            "\n",
            " [[5 6]\n",
            "  [7 8]]]\n"
          ]
        }
      ]
    },
    {
      "cell_type": "code",
      "source": [
        "#Bài 1.3\n",
        "from numpy import matlib\n",
        "G = matlib.identity(5)\n",
        "print(\"Ma trận G (identity 5x5):\")\n",
        "print(G)\n",
        "\n",
        "H = matlib.randn(3, 2)\n",
        "print(\"\\nMa trận H (randn 3x2):\")\n",
        "print(H)\n",
        "\n",
        "K = matlib.zeros([4, 4])\n",
        "print(\"\\nMa trận K (zeros 4x4):\")\n",
        "print(K)\n"
      ],
      "metadata": {
        "colab": {
          "base_uri": "https://localhost:8080/"
        },
        "id": "Y2bZOHr4Idx_",
        "outputId": "3bbe0afa-4265-448b-abd8-bf66e5276812"
      },
      "execution_count": null,
      "outputs": [
        {
          "output_type": "stream",
          "name": "stdout",
          "text": [
            "Ma trận G (identity 5x5):\n",
            "[[1. 0. 0. 0. 0.]\n",
            " [0. 1. 0. 0. 0.]\n",
            " [0. 0. 1. 0. 0.]\n",
            " [0. 0. 0. 1. 0.]\n",
            " [0. 0. 0. 0. 1.]]\n",
            "\n",
            "Ma trận H (randn 3x2):\n",
            "[[ 0.42263815  1.36152438]\n",
            " [-0.53197675 -0.24578689]\n",
            " [-1.88549987  0.9554199 ]]\n",
            "\n",
            "Ma trận K (zeros 4x4):\n",
            "[[0. 0. 0. 0.]\n",
            " [0. 0. 0. 0.]\n",
            " [0. 0. 0. 0.]\n",
            " [0. 0. 0. 0.]]\n"
          ]
        }
      ]
    },
    {
      "cell_type": "code",
      "source": [
        "#Bâi 2.2\n",
        "import numpy as np\n",
        "\n",
        "c = [3, 7, 15, 1, 292, 1, 1, 1, 2, 1, 3, 1, 14, 2]\n",
        "for i in range(len(c)):\n",
        "    ci = np.array([[c[i], 1], [1, 0]], dtype=object)\n",
        "    if i == 0:\n",
        "        M = ci\n",
        "    else:\n",
        "        M = M @ ci\n",
        "\n",
        "print(\"Ma trận M:\")\n",
        "print(M)\n",
        "\n",
        "pi_approx = M[0, 0] / M[1, 0]\n",
        "print(\"\\nSố Pi xấp xỉ:\")\n",
        "print(pi_approx)\n",
        "\n"
      ],
      "metadata": {
        "colab": {
          "base_uri": "https://localhost:8080/"
        },
        "id": "_QQFCWOTIsg3",
        "outputId": "970b6732-5e8a-428f-da2c-176c396084fa"
      },
      "execution_count": null,
      "outputs": [
        {
          "output_type": "stream",
          "name": "stdout",
          "text": [
            "Ma trận M:\n",
            "[[165707065 80143857]\n",
            " [52746197 25510582]]\n",
            "\n",
            "Số Pi xấp xỉ:\n",
            "3.1415926535897936\n"
          ]
        }
      ]
    },
    {
      "cell_type": "code",
      "source": [
        "#Bài 3\n",
        "import numpy as np\n",
        "\n",
        "X = np.array([\n",
        "    [1, 1],\n",
        "    [1, 2],\n",
        "    [1, 3],\n",
        "    [1, 4],\n",
        "    [1, 5]\n",
        "])\n",
        "\n",
        "Y = np.array([\n",
        "    [1],\n",
        "    [2],\n",
        "    [4],\n",
        "    [4],\n",
        "    [6]\n",
        "])\n",
        "\n",
        "\n",
        "XT = X.T\n",
        "\n",
        "A1 = np.linalg.inv(XT.dot(X))\n",
        "\n",
        "# Tính A2 = XT Y\n",
        "A2 = XT.dot(Y)\n",
        "# Tính A = A1 A2\n",
        "A = A1.dot(A2)\n",
        "# Hiển thị hệ số a0, a1\n",
        "a0, a1 = A.flatten()\n",
        "print(f\"Phương trình gần đúng nhất: y = {a0:.1f} + {a1:.1f}x\")\n",
        "# Tính sai số\n",
        "y_du_doan = X.dot(A)\n",
        "sai_so = np.sum((y_du_doan - Y) ** 2)\n",
        "print(f\"Sai số là: {sai_so:.1f}\")\n"
      ],
      "metadata": {
        "colab": {
          "base_uri": "https://localhost:8080/"
        },
        "id": "1eZLQOk0JVnh",
        "outputId": "95b1b8aa-8541-42c2-ff73-4eb90ccc6ad5"
      },
      "execution_count": null,
      "outputs": [
        {
          "output_type": "stream",
          "name": "stdout",
          "text": [
            "Phương trình gần đúng nhất: y = -0.2 + 1.2x\n",
            "Sai số là: 0.8\n"
          ]
        }
      ]
    },
    {
      "cell_type": "markdown",
      "source": [
        "# Bài Tập\n"
      ],
      "metadata": {
        "id": "8IEABPgIL3Lr"
      }
    },
    {
      "cell_type": "code",
      "source": [
        "#Bài tạp 1\n",
        "import numpy as np\n",
        "\n",
        "# Dữ liệu: (x, y) = {(0, 10), (1, 8), (2, 7), (3, 5), (4, 2)}\n",
        "x_data = np.array([0, 1, 2, 3, 4])\n",
        "y_data = np.array([10, 8, 7, 5, 2])\n",
        "\n",
        "X = np.column_stack((np.ones(len(x_data)), x_data))\n",
        "\n",
        "\n",
        "A1 = np.linalg.inv(X.T @ X)\n",
        "\n",
        "A2 = X.T @ y_data\n",
        "\n",
        "A = A1 @ A2\n",
        "\n",
        "a0, a1 = A\n",
        "print(f\"Phương trình tuyến tính gần đúng nhất: y = {a0:.1f} + {a1:.1f}x\")\n",
        "\n",
        "# Tính sai số (tổng bình phương sai số)\n",
        "y_du_doan = X @ A\n",
        "sai_so = np.sum((y_du_doan - y_data) ** 2)\n",
        "print(f\"Tổng bình phương sai số: {sai_so:.2f}\")\n"
      ],
      "metadata": {
        "colab": {
          "base_uri": "https://localhost:8080/"
        },
        "id": "wH7Xk4KJK2ux",
        "outputId": "c393e589-5585-47a3-806d-0274c61620ec"
      },
      "execution_count": null,
      "outputs": [
        {
          "output_type": "stream",
          "name": "stdout",
          "text": [
            "Phương trình tuyến tính gần đúng nhất: y = 10.2 + -1.9x\n",
            "Tổng bình phương sai số: 1.10\n"
          ]
        }
      ]
    }
  ]
}