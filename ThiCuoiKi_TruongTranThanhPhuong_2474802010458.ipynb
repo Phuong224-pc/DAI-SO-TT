{
  "nbformat": 4,
  "nbformat_minor": 0,
  "metadata": {
    "colab": {
      "provenance": []
    },
    "kernelspec": {
      "name": "python3",
      "display_name": "Python 3"
    },
    "language_info": {
      "name": "python"
    }
  },
  "cells": [
    {
      "cell_type": "code",
      "execution_count": 19,
      "metadata": {
        "colab": {
          "base_uri": "https://localhost:8080/"
        },
        "id": "Rvtv6WWJDkN_",
        "outputId": "e3fbee7d-25e1-4633-e0e3-4f0206de6c48"
      },
      "outputs": [
        {
          "output_type": "stream",
          "name": "stdout",
          "text": [
            "a)\n",
            "A + B = [2 3 1 6]\n",
            "2A + 3B = [ 3 11  2 14]\n",
            "\n",
            "b)\n",
            "A · B = -5\n",
            "Góc giữa A và B (radian) = 1.738\n",
            "\n",
            "c)\n",
            "C * C^T =\n",
            "[[14 -8 13]\n",
            " [-8 21 -2]\n",
            " [13 -2 29]]\n"
          ]
        }
      ],
      "source": [
        "#BÀI 1\n",
        "import numpy as np\n",
        "from numpy.linalg import norm\n",
        "from math import acos, degrees\n",
        "A = np.array([3, -2, 1, 4])\n",
        "B = np.array([-1, 5, 0, 2])\n",
        "\n",
        "# a) Tính tổng A + B và tích số 2A + 3B\n",
        "sum_AB = A + B\n",
        "linear_comb = 2 * A + 3 * B\n",
        "\n",
        "print(\"a)\")\n",
        "print(\"A + B =\", sum_AB)\n",
        "print(\"2A + 3B =\", linear_comb)\n",
        "\n",
        "# b)  Tính tích vô hướng A · B và góc giữa hai vector (tính bằng độ, làm tròn đến 3 chữ số thập phân)\n",
        "dot_product = np.dot(A, B)\n",
        "norm_A = norm(A)\n",
        "norm_B = norm(B)\n",
        "cos_theta = dot_product / (norm_A * norm_B)\n",
        "theta_rad = acos(cos_theta)\n",
        "theta_rad_rounded = round(theta_rad, 3)\n",
        "\n",
        "print(\"\\nb)\")\n",
        "print(\"A · B =\", dot_product)\n",
        "print(\"Góc giữa A và B (radian) =\", theta_rad_rounded)\n",
        "\n",
        "# c) Tính tích ma trận C * C^T\n",
        "C = np.array([[2, -1, 3],\n",
        "              [1, 4, -2],\n",
        "              [0, 2, 5]])\n",
        "CCT = np.dot(C, C.T)\n",
        "\n",
        "print(\"\\nc)\")\n",
        "print(\"C * C^T =\")\n",
        "print(CCT)\n"
      ]
    },
    {
      "cell_type": "code",
      "source": [
        "#BÀI 2\n",
        "import numpy as np\n",
        "M = np.array([\n",
        "    [2, -1, 3, 0],\n",
        "    [1, 4, -2, 5],\n",
        "    [0, 2, 6, -3],\n",
        "    [-1, 0, 1, 4]\n",
        "])\n",
        "\n",
        "N = np.array([\n",
        "    [1, 3, -2, 0],\n",
        "    [4, -1, 5, 2],\n",
        "    [0, 2, 3, -1],\n",
        "    [-3, 1, 0, 4]\n",
        "])\n",
        "# a) Tính tích M x N\n",
        "product = np.dot(M, N)\n",
        "print(\"a) M × N =\")\n",
        "print(product)\n",
        "# b) Tính định thức ma trận M\n",
        "if M.shape[0] == M.shape[1]:\n",
        "    det_M = np.linalg.det(M)\n",
        "    print(\"\\nb) Định thức của M =\", round(det_M, 3))\n",
        "else:\n",
        "    print(\"\\nb) Ma trận M không phải vuông nên không tính được định thức.\")\n",
        "# c) Tính hạng của ma trận N\n",
        "rank_N = np.linalg.matrix_rank(N)\n",
        "print(\"\\nc) Hạng của ma trận N =\", rank_N)\n"
      ],
      "metadata": {
        "colab": {
          "base_uri": "https://localhost:8080/"
        },
        "id": "ktkVZnygFzsy",
        "outputId": "5a95f8e9-e43d-4b58-97b2-6f7d5b9f8d87"
      },
      "execution_count": 20,
      "outputs": [
        {
          "output_type": "stream",
          "name": "stdout",
          "text": [
            "a) M × N =\n",
            "[[ -2  13   0  -5]\n",
            " [  2   0  12  30]\n",
            " [ 17   7  28 -14]\n",
            " [-13   3   5  15]]\n",
            "\n",
            "b) Định thức của M = 409.0\n",
            "\n",
            "c) Hạng của ma trận N = 4\n"
          ]
        }
      ]
    },
    {
      "cell_type": "code",
      "source": [
        "#Bài 3\n",
        "import numpy as np\n",
        "P = np.array([\n",
        "    [3, -1, 0, 2],\n",
        "    [1, 4, -2, 0],\n",
        "    [0, 1, 5, -1],\n",
        "    [2, 0, 1, 3]\n",
        "])\n",
        "\n",
        "b = np.array([6, 8, -3, 7])\n",
        "\n",
        "# a) Tìm ma trận nghịch đảo của P. Nếu không khả nghịch, giải thích lý do\n",
        "try:\n",
        "    P_inv = np.linalg.inv(P)\n",
        "    print(\"a) Ma trận nghịch đảo của P là:\")\n",
        "    print(np.round(P_inv, 3))  # Làm tròn cho dễ đọc\n",
        "except np.linalg.LinAlgError:\n",
        "    print(\"a) Ma trận P không khả nghịch (định thức bằng 0).\")\n",
        "\n",
        "# b)Giải hệ phương trình trên bằng cách sử dụng nghịch đảo ma trận\n",
        "try:\n",
        "    x = np.dot(P_inv, b)\n",
        "    print(\"\\nb) Nghiệm của hệ phương trình là:\")\n",
        "    print(np.round(x, 3))\n",
        "except:\n",
        "    print(\"\\nb) Không giải được hệ vì P không khả nghịch.\")\n",
        "# c)Kiểm tra nghiệm bằng cách nhân ma trận P với vector nghiệm và so sánh với vector hằng số.\n",
        "\n",
        "if 'x' in locals():\n",
        "    b_check = np.dot(P, x)\n",
        "    print(\"\\nc) Kiểm tra lại: P * x =\")\n",
        "    print(np.round(b_check, 3))\n",
        "    print(\"So sánh với b gốc:\", b)\n",
        "\n"
      ],
      "metadata": {
        "colab": {
          "base_uri": "https://localhost:8080/"
        },
        "id": "5C9VvNgcGMy8",
        "outputId": "e8d53426-80aa-455a-e73a-d536d4bf5561"
      },
      "execution_count": 21,
      "outputs": [
        {
          "output_type": "stream",
          "name": "stdout",
          "text": [
            "a) Ma trận nghịch đảo của P là:\n",
            "[[ 0.5    0.1    0.1   -0.3  ]\n",
            " [-0.143  0.2    0.057  0.114]\n",
            " [-0.036 -0.05   0.164  0.079]\n",
            " [-0.321 -0.05  -0.121  0.507]]\n",
            "\n",
            "b) Nghiệm của hệ phương trình là:\n",
            "[ 1.4    1.371 -0.557  1.586]\n",
            "\n",
            "c) Kiểm tra lại: P * x =\n",
            "[ 6.  8. -3.  7.]\n",
            "So sánh với b gốc: [ 6  8 -3  7]\n"
          ]
        }
      ]
    },
    {
      "cell_type": "code",
      "source": [
        "#BÀI 4\n",
        "import numpy as np\n",
        "Q = np.array([\n",
        "    [5, -2, 1],\n",
        "    [0, 3, -1],\n",
        "    [2, 0, 4]\n",
        "])\n",
        "\n",
        "# a) Tìm các giá trị riêng của Q\n",
        "giatririeng, vectorrieng = np.linalg.eig(Q)\n",
        "print(\"a) Các giá trị riêng :\")\n",
        "print(giatririeng)\n",
        "\n",
        "# b) Tìm các vector riêng tương ứng với các giá trị riêng\n",
        "print(\"\\nb) Các vector riêng tương ứng (cột vector):\")\n",
        "print(vectorrieng)\n",
        "\n",
        "# c) Chuẩn hóa các vector riêng (độ dài bằng 1)\n",
        "dinhmuc_vectors = vectorrieng / np.linalg.norm(vectorrieng, axis=0)\n",
        "print(\"\\nc) Các vector riêng sau khi chuẩn hóa (unit length):\")\n",
        "print(dinhmuc_vectors)\n"
      ],
      "metadata": {
        "colab": {
          "base_uri": "https://localhost:8080/"
        },
        "id": "zn3ahaNxG5Rw",
        "outputId": "ad8f21ad-2b03-41ac-bace-d58bfbdc32b0"
      },
      "execution_count": 22,
      "outputs": [
        {
          "output_type": "stream",
          "name": "stdout",
          "text": [
            "a) Các giá trị riêng :\n",
            "[6.3553014+0.j         2.8223493+1.07730381j 2.8223493-1.07730381j]\n",
            "\n",
            "b) Các vector riêng tương ứng (cột vector):\n",
            "[[ 0.74846013+0.j         -0.37423006+0.34234215j -0.37423006-0.34234215j]\n",
            " [-0.18941773+0.j          0.09470887+0.57433055j  0.09470887-0.57433055j]\n",
            " [ 0.63555359+0.j          0.63555359+0.j          0.63555359-0.j        ]]\n",
            "\n",
            "c) Các vector riêng sau khi chuẩn hóa (unit length):\n",
            "[[ 0.74846013+0.j         -0.37423006+0.34234215j -0.37423006-0.34234215j]\n",
            " [-0.18941773+0.j          0.09470887+0.57433055j  0.09470887-0.57433055j]\n",
            " [ 0.63555359+0.j          0.63555359+0.j          0.63555359-0.j        ]]\n"
          ]
        }
      ]
    },
    {
      "cell_type": "code",
      "source": [
        "# Bài 5\n",
        "import numpy as np\n",
        "R = np.array([[4, -1, 2],\n",
        "              [1, 3, -2],\n",
        "              [0, 2, 5]])\n",
        "b = np.array([12, 5, 9])\n",
        "#a)  Giải hệ phương trình Rx = b bằng phương pháp np.linalg.solve()\n",
        "x = np.linalg.solve(R, b)\n",
        "print(\"a) Nghiệm của hệ phương trình Rx = b là:\")\n",
        "print(x)\n",
        "#b) Xác định xem ma trận R có khả nghịch không. Nếu có, tính ma trận nghịch đảo và dùng nó để giải lại hệ. So sánh hai nghiệm.\n",
        "det_R = np.linalg.det(R)\n",
        "print(\"\\nb) Định thức của R:\", det_R)\n",
        "if det_R != 0:\n",
        "    print(\"=> Ma trận R khả nghịch.\")\n",
        "    R_inv = np.linalg.inv(R)\n",
        "    print(\"Ma trận nghịch đảo R⁻¹:\\n\", R_inv)\n",
        "    # Giải lại hệ bằng R⁻¹.b\n",
        "    x_check = R_inv @ b\n",
        "    print(\"Nghiệm giải lại bằng R⁻¹.b là:\")\n",
        "    print(x_check)\n",
        "    # So sánh hai nghiệm\n",
        "    is_close = np.allclose(x, x_check)\n",
        "    print(\"So sánh với nghiệm ở phần a):\", \"Trùng khớp\" if is_close else \"Khác nhau \")\n",
        "else:\n",
        "    print(\"=> Ma trận R không khả nghịch.\")\n",
        "#c) Tính chuẩn Frobenius của ma trận R\n",
        "fro_norm = np.linalg.norm(R, 'fro')\n",
        "print(\"\\nc) Chuẩn Frobenius của ma trận R là:\", fro_norm)\n"
      ],
      "metadata": {
        "colab": {
          "base_uri": "https://localhost:8080/"
        },
        "id": "z5GxLAgRJO-j",
        "outputId": "83b09e68-d0de-42d1-e7a6-0dd82a831164"
      },
      "execution_count": 18,
      "outputs": [
        {
          "output_type": "stream",
          "name": "stdout",
          "text": [
            "a) Nghiệm của hệ phương trình Rx = b là:\n",
            "[2.78823529 1.52941176 1.18823529]\n",
            "\n",
            "b) Định thức của R: 85.00000000000001\n",
            "=> Ma trận R khả nghịch.\n",
            "Ma trận nghịch đảo R⁻¹:\n",
            " [[ 0.22352941  0.10588235 -0.04705882]\n",
            " [-0.05882353  0.23529412  0.11764706]\n",
            " [ 0.02352941 -0.09411765  0.15294118]]\n",
            "Nghiệm giải lại bằng R⁻¹.b là:\n",
            "[2.78823529 1.52941176 1.18823529]\n",
            "So sánh với nghiệm ở phần a): Trùng khớp\n",
            "\n",
            "c) Chuẩn Frobenius của ma trận R là: 8.0\n"
          ]
        }
      ]
    }
  ]
}